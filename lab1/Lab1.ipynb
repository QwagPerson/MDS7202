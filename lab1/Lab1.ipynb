{
 "cells": [
  {
   "cell_type": "markdown",
   "metadata": {
    "id": "J4_IcuuKZj9Y",
    "cell_id": "097fce6dce21405c911254a775ae3d26",
    "deepnote_cell_type": "markdown"
   },
   "source": [
    "<h1><center>Laboratorio 1: Git 👾</center></h1>\n",
    "\n",
    "<center><strong>MDS7202: Laboratorio de Programación Científica para Ciencia de Datos - Primavera 2023</strong></center>"
   ],
   "block_group": "097fce6dce21405c911254a775ae3d26"
  },
  {
   "cell_type": "markdown",
   "metadata": {
    "id": "AEXIACc7aADv",
    "cell_id": "9e8e8f2ae34e461da4f44508a96d2cf4",
    "deepnote_cell_type": "markdown"
   },
   "source": [
    "### Cuerpo Docente:\n",
    "\n",
    "- Profesores: Ignacio Meza, Gabriel Iturra\n",
    "- Auxiliar: Sebastián Tinoco\n",
    "- Ayudante: Arturo Lazcano, Angelo Muñoz"
   ],
   "block_group": "9e8e8f2ae34e461da4f44508a96d2cf4"
  },
  {
   "cell_type": "markdown",
   "metadata": {
    "id": "0HgMMyoCaG8X",
    "cell_id": "3e5b48c23e1b48f6a64de41899166179",
    "deepnote_cell_type": "markdown"
   },
   "source": [
    "### Equipo: SUPER IMPORTANTE - notebooks sin nombre no serán revisados\n",
    "\n",
    "- Gustavo Santelices\n",
    "- No encontre a nadie :( si cachas a alguien en la misma situacion apuntalo aca pls."
   ],
   "block_group": "3e5b48c23e1b48f6a64de41899166179"
  },
  {
   "cell_type": "markdown",
   "metadata": {
    "id": "fz77X6glaK6y",
    "cell_id": "1db7c82b68614d19b112ba3b0d0abe4d",
    "deepnote_cell_type": "markdown"
   },
   "source": [
    "### **Link de repositorio de GitHub:** [Link](https://github.com/QwagPerson/MDS7202)"
   ],
   "block_group": "1db7c82b68614d19b112ba3b0d0abe4d"
  },
  {
   "cell_type": "markdown",
   "metadata": {
    "id": "rRwqaxIZaNx3",
    "cell_id": "bc3dac65089d4ae6a43c079547dee179",
    "deepnote_cell_type": "markdown"
   },
   "source": [
    "## Reglas:\n",
    "\n",
    "- Fecha de entrega: 6 días desde la publicación, 3 días de atraso con 1 punto de descuento c/u. Pueden utilizar días bonus sin descuento.\n",
    "- **Grupos de 2 personas**\n",
    "- Asistencia **obligatoria** a instrucciones del lab (viernes 16.15). Luego, pueden quedarse trabajando en las salas o irse.\n",
    "- **Ausentes tienen nota máxima 6.0**.  \n",
    "- Cualquier duda fuera del horario de clases al foro. Mensajes al equipo docente serán respondidos por este medio.\n",
    "- <u>Prohibidas las copias</u>. Cualquier intento de copia será debidamente penalizado con el reglamento de la escuela.\n",
    "- Pueden usar cualquer material del curso que estimen conveniente.\n",
    "- Asistencia obligatoria a instrucciones del lab (viernes 16.15). Luego, pueden quedarse trabajando en las salas o irse."
   ],
   "block_group": "bc3dac65089d4ae6a43c079547dee179"
  },
  {
   "cell_type": "markdown",
   "metadata": {
    "id": "bmToL27JaSrf",
    "cell_id": "05e4729411a24153837fd13b7f198bd9",
    "deepnote_cell_type": "markdown"
   },
   "source": [
    "## Objetivos del lab:\n",
    "\n",
    "\n",
    "- Conocer los elementos básicos que conformar `Git`\n",
    "- Clonar repositorios\n",
    "- Identificar ramas de un repositorio\n",
    "- Reconocer y solucionar problemas entre ramas\n",
    "- Subir cambios a un repositorio"
   ],
   "block_group": "05e4729411a24153837fd13b7f198bd9"
  },
  {
   "cell_type": "markdown",
   "metadata": {
    "id": "bvnPCvrVbJLK",
    "cell_id": "5ebae9d601bd4d508349ab55297e9f82",
    "deepnote_cell_type": "markdown"
   },
   "source": [
    "## Parte 1: Conocimiento Teórico (2.5 pts)\n",
    "\n",
    "<p align=\"center\">\n",
    "  <img src=\"https://cdn.thedesigninspiration.com/wp-content/uploads/sites/3/2019/04/macintosh-hdusersbrittanyloefflerdownloadsanig-1.gif\" width=\"350\">\n",
    "</p>"
   ],
   "block_group": "5ebae9d601bd4d508349ab55297e9f82"
  },
  {
   "cell_type": "markdown",
   "metadata": {
    "id": "JHl-24XnbNLF",
    "cell_id": "627494dba4f84520b3ee8b9cbf58ee79",
    "deepnote_cell_type": "markdown"
   },
   "source": [
    "Responda las siguientes preguntas (0.2 pts c/u):\n",
    "\n",
    "1. ¿Qué es `Git` y cómo se relaciona con el control de versiones?\n",
    "\n",
    "2. Nombre y explique 3 diferencias entre `Git` y `Github`.\n",
    "\n",
    "3. ¿Qué es un `hash` y cómo se representa en un `commit`? De un ejemplo.\n",
    "\n",
    "4. ¿Que elementos componen a la estructura de datos de `Git`?\n",
    "\n",
    "5. ¿Que comandos de `Git` sirven para crear un repositorio y hacer seguimiento a cambios en los archivos?"
   ],
   "block_group": "627494dba4f84520b3ee8b9cbf58ee79"
  },
  {
   "cell_type": "markdown",
   "metadata": {
    "id": "2tXCSkf0caG8",
    "cell_id": "6d06c40f429044a298b27c666f51f46f",
    "deepnote_cell_type": "markdown"
   },
   "source": [
    "Escriba sus respuestas acá:\n",
    "\n",
    "1. Git es un sistema de control de versiones distribuido ampliamente utilizado. Este permite manejar distintas versiones de un proyecto entre varios\n",
    "desarrolladores. Existen otros sistemas de control de versiones pero git es el más común.\n",
    "2. \n",
    "   - Git es un sistema de control de versiones, github es una pagina web.\n",
    "   - Git no tiene GUI por si mismo, en cambio github si.\n",
    "   - Github tiene funcionalidades extras versus git como por ejemplo manejo de permisos y roles.\n",
    "3. Un hash es una secuencia de caracteres generada por una función de hashing. En git se utilizan los hashes para poder identificar los cambios de un archivo. En particular, a cada commit se le asigna un hash que permite identificarlo.\n",
    "4. Hay 4 objetos básicos en Git, los blobs, trees, commits y tags.\n",
    "5. Para crear un repositorio debe utilizarse \"git init\" y luego para añadir un archivo al seguimiento de git se debe utilizar \"git add <ruta>\" y finalmente \"git commit\" para commitear los cambios de los archivos staged.\n",
    " \n"
   ],
   "block_group": "6d06c40f429044a298b27c666f51f46f"
  },
  {
   "cell_type": "markdown",
   "metadata": {
    "id": "MACccbP4gU43",
    "cell_id": "ec9855406e324cc98b59e33500faea84",
    "deepnote_cell_type": "markdown"
   },
   "source": [
    "Responda si las siguientes afirmaciones son Verdaderas (V) o Falsas (F). Justifique en **cualquiera** de los casos (0.2 pts c/u):\n",
    "\n",
    "\n",
    "6. `Git` siempre resuelve automáticamente los problemas de lineas al hacer merge entre diferentes ramas.\n",
    "7. Ejecutar `git pull` sobre un repositorio es equivalente a ejecutar `git clone`.\n",
    "8. `git status` genera los mismos resultados que `git log`.\n",
    "9. En `Git` es posible deshacer cambios y volver a versiones anteriores del código.\n",
    "10. El comando `git commit` se utiliza para enviar cambios al repositorio remoto."
   ],
   "block_group": "ec9855406e324cc98b59e33500faea84"
  },
  {
   "cell_type": "markdown",
   "metadata": {
    "id": "DFnmCToOgeM3",
    "cell_id": "7e6a5a6e15b045cc9d104cf017825f1a",
    "deepnote_cell_type": "markdown"
   },
   "source": [
    "6. Falso, existen merges lo cuales deben ser resueltos a mano. Por ejemplo cuando se edita la misma linea de codigo en dos branches distintas.\n",
    "7. Falso, git pull solo obtiene los archivos modificados desde la ultima version del repo local. En cambio git clone permite crear una conexión entre el repo local y el remoto trayendo todos los archivos hasta ese momento del repositorio.\n",
    "8. Falso, git log permite ver los mensajes y commits anteriores. Git status permite ver el estado actual del working directory y el staging area.\n",
    "9. Verdadero, se puede usar git checkout <hash> para volver al estado de un repo con ese hash. Por ejemplo volver a un commit anterior.\n",
    "10. Falso, los envios al remoto son con git push."
   ],
   "block_group": "7e6a5a6e15b045cc9d104cf017825f1a"
  },
  {
   "cell_type": "markdown",
   "metadata": {
    "cell_id": "54317cad024744ebaf4938df55ba3b95",
    "deepnote_cell_type": "markdown"
   },
   "source": [
    "Por último, investigue y comente para qué sirven los siguientes comandos:\n",
    "\n",
    "11. `git stash` (0.25 puntos)\n",
    "12. `git reset`. ¿Cuál es la diferencia de este comando con `git revert`?. (0.25 puntos)"
   ],
   "block_group": "54317cad024744ebaf4938df55ba3b95"
  },
  {
   "cell_type": "markdown",
   "source": [
    "11. git stash permite guardar el estado actual del working directory sin commitear los cambios. Por ejemplo, si estuvieramos trabajando en una branch y queremos cambiarnos a otra por un momento para revisar algo podemos stashear los cambios y luego hacer el checkout.\n",
    "12. Git reset sirve para mover el cabezal, esto es bien util pues no permite manejar muy a mano el estado de nuestro repo. En cambio revert es usado para revertir commits dejando nuevos commits indicando que los revertimos. Con reset tambien se pueden eliminar commits pero esto no es muy recomendable porque te puede crear nuevos problemas. "
   ],
   "metadata": {
    "collapsed": false
   }
  },
  {
   "cell_type": "markdown",
   "metadata": {
    "id": "i7Em9JkbbRLo",
    "cell_id": "3e4d8b9974e4426ca38fd20f4b835a55",
    "deepnote_cell_type": "markdown"
   },
   "source": [
    "## Parte 2: Creando una presentación personal (1.5 pts)\n",
    "\n",
    "<p align=\"center\">\n",
    "  <img src=\"https://media.tenor.com/arqlNu8gyJYAAAAC/cat-cat-jumping.gif\" width=\"150\">\n",
    "</p>\n",
    "\n"
   ],
   "block_group": "3e4d8b9974e4426ca38fd20f4b835a55"
  },
  {
   "cell_type": "markdown",
   "metadata": {
    "id": "XWIHfyrlbYOJ",
    "cell_id": "988648005dba4b9782c6625dfe6ae4ef",
    "deepnote_cell_type": "markdown"
   },
   "source": [
    " como historias bifurcadasPara empezar a \"*soltar las manos*\" con `Git`, se les encomienda crear un repositorio con una presentación personal. El repositorio debe contener un breve resumen de quienes son ustedes, sus gustos, experiencias, y cualquier otro detalle interesante que ustedes consideren relevante. \n",
    "\n",
    "Para realizar esto, deben seguir los siguientes pasos:\n",
    "\n",
    "1. Contar con una cuenta de github (1 por persona)\n",
    "2. Crear un repositorio con su nombre de usuario\n",
    "3. Vincular el repositorio a su ambiente local ¿Qué comando(s) me permiten hacer esto?\n",
    "    Git clone\n",
    "4. Crear un archivo `readme.md` con la información que ustedes deseen compartir.\n",
    "    Git add readme.md y git commit -m \"updated readme\"\n",
    "5. Realizar `push` con los cambios generados\n",
    "   Git push\n",
    "    \n",
    "\n",
    "A modo de ejemplo, pueden guiarse por esta *suculenta* [presentación](https://github.com/Mezosky)\n",
    "\n",
    "**Nota: Deben trabajar todos estos puntos desde su ambiente local**\n",
    "\n",
    "*Hint: Una buena opción es usar templates de presentación personal que encuentren en Google, como los que ofrece este [sitio](https://durgeshsamariya.github.io/awesome-github-profile-readme-templates/#/)*.\n",
    "\n",
    "**Entregable:**\n",
    "\n",
    "Enlace al repositorio con la presentación personal. \n",
    "\n",
    "IMPORTANTE: DEBEN ADJUNTAR UN ENLACE POR PERSONA"
   ],
   "block_group": "988648005dba4b9782c6625dfe6ae4ef"
  },
  {
   "cell_type": "markdown",
   "metadata": {
    "id": "IIkWyl9tf0Sg",
    "cell_id": "081b38d55dc54282bc8e3cd300ce9d3e",
    "deepnote_cell_type": "markdown"
   },
   "source": [
    "<code>Link Presentacion 1:</code> [Link](https://github.com/QwagPerson/QwagPerson/)\n",
    "\n",
    "<code>Link Presentacion 2:</code>"
   ],
   "block_group": "081b38d55dc54282bc8e3cd300ce9d3e"
  },
  {
   "cell_type": "markdown",
   "metadata": {
    "id": "CAzXOwvDY-IG",
    "cell_id": "0481a05d2d1a46928f6cfb7762720980",
    "deepnote_cell_type": "markdown"
   },
   "source": [
    "## Parte 3: Trabajando sobre un repositorio externo (2 pts)\n",
    "\n",
    "<p align=\"center\">\n",
    "  <img src=\"https://media.tenor.com/YXL-0SK15j4AAAAC/dance-animals.gif\" width=\"300\">\n",
    "</p>\n",
    "\n",
    "Tras muchos dolores de cabeza, un grupo de entusiastas académicos decidieron aprender sobre `Git` y así trabajar colaborativamente de forma más ordenada y eficiente. Después de una infinidad de intentos y aprender de sus errores \"*a la mala*\", los académicos lograron levantar un [repositorio](https://github.com/MDS7202/lab1) en `Github`. Usando el repositorio de los académicos, responda las siguientes preguntas (**incluya también los comandos en `Git` ocupados**):\n"
   ],
   "block_group": "0481a05d2d1a46928f6cfb7762720980"
  },
  {
   "cell_type": "markdown",
   "metadata": {
    "id": "BFRnAw0rfguR",
    "cell_id": "bcef73b2e8604579bde90ed6622abfe9",
    "deepnote_cell_type": "markdown"
   },
   "source": [
    "1. Clone el repositorio a su ambiente local. (0.25 pts)"
   ],
   "block_group": "bcef73b2e8604579bde90ed6622abfe9"
  },
  {
   "cell_type": "markdown",
   "metadata": {
    "id": "KXro32yBeilN",
    "cell_id": "5d126ac3819c44479af94d3895bc4c97",
    "deepnote_cell_type": "markdown"
   },
   "source": [
    "git clone https://github.com/MDS7202/lab1.git"
   ],
   "block_group": "5d126ac3819c44479af94d3895bc4c97"
  },
  {
   "cell_type": "markdown",
   "metadata": {
    "cell_id": "e215e4e25b2440f09ac273ba63603986",
    "deepnote_cell_type": "markdown"
   },
   "source": [
    "2. Descomprima los archivos subidos con la tarea en U-cursos en la carpeta recién clonada de github. Una vez realizado esto, cree un archivo `.gitignore` con el cual omita la carpeta `videos` y los archivos con la extensión `.txt` exceptuando el archivo `171.txt` de la carpeta `texts`. (0.25 pts)"
   ],
   "block_group": "e215e4e25b2440f09ac273ba63603986"
  },
  {
   "cell_type": "markdown",
   "metadata": {
    "cell_id": "186233b44d004e3bbd86262d010188b5",
    "deepnote_cell_type": "markdown"
   },
   "source": [
    "Quedo adjuntado dentro del repositorio, ver carpeta adjunta. Tambien añadi el archivo con git add y le hice commit con git commit -m \"adds .gitignore\"."
   ],
   "block_group": "186233b44d004e3bbd86262d010188b5"
  },
  {
   "cell_type": "markdown",
   "metadata": {
    "id": "q2qmiDyjt2M_",
    "cell_id": "1de150590a41484a988b8e46616a2324",
    "deepnote_cell_type": "markdown"
   },
   "source": [
    "3. Inspeccione brevemente el repositorio: ¿Cual es el objetivo del proyecto? Explique brevemente la estructura del proyecto, asi como también cada elemento que lo conforma. (0.25 pts)"
   ],
   "block_group": "1de150590a41484a988b8e46616a2324"
  },
  {
   "cell_type": "markdown",
   "metadata": {
    "id": "aBHpR8VTftkT",
    "cell_id": "082ca01c865e48e28352b280400c47b6",
    "deepnote_cell_type": "markdown"
   },
   "source": [
    "Es un proyecto que busca emular el sonido de los animales. El main.py es el archivo que debe ejecutarse para poder emular los sonidos de los animales y animales.py tiene el clasificador de texto para ver que sonido debe retornar."
   ],
   "block_group": "082ca01c865e48e28352b280400c47b6"
  },
  {
   "cell_type": "markdown",
   "metadata": {
    "id": "XFwqcpLZfylf",
    "cell_id": "3aab4a3ee0c246e1be955680ad653fb8",
    "deepnote_cell_type": "markdown"
   },
   "source": [
    "4. Identifique los últimos cambios al repositorio, reconociendo las principales ramas de trabajo. ¿Son informativos los `commit` realizados? (0.25 pts)\n",
    "*Hint: Se recomienda usar los argumentos `all`, `graph` y `decorate`*"
   ],
   "block_group": "3aab4a3ee0c246e1be955680ad653fb8"
  },
  {
   "cell_type": "markdown",
   "metadata": {
    "id": "cmWfXBkOhog0",
    "cell_id": "0fab79a360ac4c6a9ca0ab884f85c7e1",
    "deepnote_cell_type": "markdown"
   },
   "source": [
    "Se tienen 2 branches de features. En fix-ifs se reemplazo los ifs por elifs.  En new_features se separo el proyecto por modulos. Esta ultima rama esta al dia con main.\n",
    "Se uso git log --oneline --graph --decorate --all."
   ],
   "block_group": "0fab79a360ac4c6a9ca0ab884f85c7e1"
  },
  {
   "cell_type": "markdown",
   "metadata": {
    "id": "Vqbj9HdXrUnN",
    "cell_id": "d07b24d21f2343fb9a7e6a5db74e98c3",
    "deepnote_cell_type": "markdown"
   },
   "source": [
    "5. Uno de los académicos se da cuenta que la rama principal de trabajo no se ejecuta correctamente para todos los argumentos. Señale y explique el error en el código e identifique a la persona que lo cometió usando `git blame` (0.25 pts)\n",
    "\n",
    "*Hint: Le puede ser útil esta [documentación](https://www.atlassian.com/es/git/tutorials/inspecting-a-repository/git-blame).*"
   ],
   "block_group": "d07b24d21f2343fb9a7e6a5db74e98c3"
  },
  {
   "cell_type": "markdown",
   "metadata": {
    "id": "5ajhV2Iar3tV",
    "cell_id": "bc5b0f9c639643108f8e66687b721732",
    "deepnote_cell_type": "markdown"
   },
   "source": [
    "El error esta en animales.py donde se usan puros ifs lo que causa que se levante un value error con gato y perro. al usar git blame animales.py podemos ver que el culpable es mezosky."
   ],
   "block_group": "bc5b0f9c639643108f8e66687b721732"
  },
  {
   "cell_type": "markdown",
   "metadata": {
    "id": "m8J3uE7MhqTA",
    "cell_id": "f3f4e78e6d9145ebbb120c0a2e4aade6",
    "deepnote_cell_type": "markdown"
   },
   "source": [
    "6. Busque los siguientes `commit`:\n",
    "\n",
    "- `c8b1a62d7299552b0654f930d695b33109214111`\n",
    "- `362fe21ee44f53ee944cee4ba484600308f83d78`\n",
    "- `25543a3baf77292baf849726784ca005473acab1`\n",
    "\n",
    "¿Qué diferencias existen entre cada uno? (0.25 pts)"
   ],
   "block_group": "f3f4e78e6d9145ebbb120c0a2e4aade6"
  },
  {
   "cell_type": "markdown",
   "metadata": {
    "id": "sNHnZsgIitGh",
    "cell_id": "696ed361ac0c41c8a214cfad9dcb39e6",
    "deepnote_cell_type": "markdown"
   },
   "source": [
    "Usando `git show <hash>` podemos ver que se tiene que:\n",
    "- `c8b1a62d7299552b0654f930d695b33109214111` --> se agrega funcion\n",
    "- `362fe21ee44f53ee944cee4ba484600308f83d78` --> Se separa el proyecto en modulos\n",
    "- `25543a3baf77292baf849726784ca005473acab1` --> fix ifs\n",
    "Podemos ver que cada commit hace cambios distintos y tiene mensajes distintos. "
   ],
   "block_group": "696ed361ac0c41c8a214cfad9dcb39e6"
  },
  {
   "cell_type": "markdown",
   "metadata": {
    "id": "WQIPbfNCgpxC",
    "cell_id": "b4e18f8ce94c430f85915c4e2732d05b",
    "deepnote_cell_type": "markdown"
   },
   "source": [
    "7. Realice una `merge` de la rama `fix-ifs` con la rama `main` y describa lo que ocurre. ¿Qué parte del código podría estar ocasionando esto? (0.25 pts)"
   ],
   "block_group": "b4e18f8ce94c430f85915c4e2732d05b"
  },
  {
   "cell_type": "markdown",
   "metadata": {
    "id": "ypH_6lL5ioZz",
    "cell_id": "36da6a0d4f4a427bbccac09e2ae965fd",
    "deepnote_cell_type": "markdown"
   },
   "source": [
    "Al usar `git merge fix-ifs` nos encontramos un conflicto en el archivo main.py."
   ],
   "block_group": "36da6a0d4f4a427bbccac09e2ae965fd"
  },
  {
   "cell_type": "markdown",
   "metadata": {
    "id": "GYfODCjeivkU",
    "cell_id": "09787ab449c543479e5cc54c2a3b6c19",
    "deepnote_cell_type": "markdown"
   },
   "source": [
    "8. Cree una rama nueva y proponga una solución al problema anterior, adjuntando el código corregido y señalando las líneas modificadas. (0.25 pts)"
   ],
   "block_group": "09787ab449c543479e5cc54c2a3b6c19"
  },
  {
   "cell_type": "markdown",
   "metadata": {
    "id": "8heBxDU9iziT",
    "cell_id": "6d963fba3f2d4c17a4b281c7d3f4fb8b",
    "deepnote_cell_type": "markdown"
   },
   "source": [
    "`git checkout -b 'fix-merge-error'` para crear una rama y cambiar a ella.\n",
    "Modifique main.py para eliminar la adicion de la branch fix-ifs y hice commit a ese cambio.\n",
    "Luego modifique animales.py para solucionar el bug e hice otro commit. Finalmente hice merge de esta rama a main con `git merge fix-merge-error`  este no tuvo ningun conflicto y termino funcionando dejando todas las ramas mergeadas. Esto lo verifique usando `git branch --merged`.\n",
    "\n",
    "Mando el repo adjuntado a este notebook, pero las lineas modificadas son solamente en animales.py al reemplazar el segundo y tercer ifs por elifs.\n"
   ],
   "block_group": "6d963fba3f2d4c17a4b281c7d3f4fb8b"
  },
  {
   "cell_type": "markdown",
   "metadata": {
    "id": "Av8ebB9jkALO",
    "cell_id": "8a47d4bf8b3045d68e4f29bb449c87f1",
    "deepnote_cell_type": "markdown"
   },
   "source": [
    "## Fin"
   ],
   "block_group": "8a47d4bf8b3045d68e4f29bb449c87f1"
  },
  {
   "cell_type": "markdown",
   "metadata": {
    "id": "aQqZT9fSkBK8",
    "cell_id": "cec4b53942ed489f8f8b63d0e9d4f3e5",
    "deepnote_cell_type": "markdown"
   },
   "source": [
    "Eso ha sido todo por ahora!! Esperamos que este laboratorio les haya gustado y servido para trabajar con `Git`. Recuerden los dias de plazo que tienen disponibles y que ante cualquier duda no duden en contactar al equipo docente. \n",
    "\n",
    "Nos vemos!! \n",
    "\n",
    "<p align=\"center\">\n",
    "  <img src=\"https://media.tenor.com/OYLdav9k9LkAAAAd/kitty-cat.gif\" width=\"350\">\n",
    "</p>\n"
   ],
   "block_group": "cec4b53942ed489f8f8b63d0e9d4f3e5"
  },
  {
   "cell_type": "markdown",
   "source": [
    "<a style='text-decoration:none;line-height:16px;display:flex;color:#5B5B62;padding:10px;justify-content:end;' href='https://deepnote.com?utm_source=created-in-deepnote-cell&projectId=87110296-876e-426f-b91d-aaf681223468' target=\"_blank\">\n",
    "<img alt='Created in deepnote.com' style='display:inline;max-height:16px;margin:0px;margin-right:7.5px;' src='data:image/svg+xml;base64,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' > </img>\n",
    "Created in <span style='font-weight:600;margin-left:4px;'>Deepnote</span></a>"
   ],
   "metadata": {
    "created_in_deepnote_cell": true,
    "deepnote_cell_type": "markdown"
   }
  }
 ],
 "nbformat": 4,
 "nbformat_minor": 0,
 "metadata": {
  "colab": {
   "provenance": [],
   "authorship_tag": "ABX9TyPLnABjPBy181zQ0xKEKCGu"
  },
  "deepnote": {},
  "kernelspec": {
   "name": "python3",
   "display_name": "Python 3"
  },
  "language_info": {
   "name": "python"
  },
  "deepnote_notebook_id": "62cd20d52b9a4810ada15644630456dc",
  "deepnote_execution_queue": []
 }
}
