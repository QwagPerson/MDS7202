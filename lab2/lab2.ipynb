{
 "cells": [
  {
   "cell_type": "markdown",
   "metadata": {
    "id": "cd7b1b55",
    "deepnote_cell_height": 104.390625,
    "cell_id": "567e3e8f1ac2430483c12975f41b3306",
    "deepnote_cell_type": "markdown"
   },
   "source": [
    "<h1><center>Laboratorio 2: Primeros pasos 👣</center></h1>\n",
    "\n",
    "<center><strong>MDS7202: Laboratorio de Programación Científica para Ciencia de Datos - Primavera 2023</strong></center>"
   ],
   "block_group": "567e3e8f1ac2430483c12975f41b3306"
  },
  {
   "cell_type": "markdown",
   "metadata": {
    "id": "Vp_vOHK7V97e",
    "deepnote_cell_height": 165.1875,
    "cell_id": "4464ba8e552d41a19d445e7746b72ef6",
    "deepnote_cell_type": "markdown"
   },
   "source": [
    "### Cuerpo Docente:\n",
    "\n",
    "- Profesores: Ignacio Meza, Gabriel Iturra\n",
    "- Auxiliar: Sebastián Tinoco\n",
    "- Ayudante: Arturo Lazcano, Angelo Muñoz"
   ],
   "block_group": "4464ba8e552d41a19d445e7746b72ef6"
  },
  {
   "cell_type": "markdown",
   "metadata": {
    "id": "4N_5AYgyWKyA",
    "cell_id": "4979683740cb498ab200a981cfafc91c",
    "deepnote_cell_height": 171.796875,
    "deepnote_cell_type": "markdown"
   },
   "source": [
    "### Equipo: SUPER IMPORTANTE - notebooks sin nombre no serán revisados\n",
    "\n",
    "- Nombre de alumno 1: Gustavo Santelices\n",
    "- Nombre de alumno 2: NA\n"
   ],
   "block_group": "4979683740cb498ab200a981cfafc91c"
  },
  {
   "cell_type": "markdown",
   "metadata": {
    "id": "1rjlaJDEWxd9",
    "cell_id": "1470f393cb414d2094db386ff745702c",
    "deepnote_cell_height": 62,
    "deepnote_cell_type": "markdown"
   },
   "source": [
    "### **Link de repositorio de GitHub:** `https://github.com/QwagPerson/MDS7202`"
   ],
   "block_group": "1470f393cb414d2094db386ff745702c"
  },
  {
   "cell_type": "markdown",
   "metadata": {
    "id": "9el9ERaKWW3i",
    "deepnote_cell_height": 271.796875,
    "cell_id": "e30789b4d0e545569e96fe8c91897281",
    "deepnote_cell_type": "markdown"
   },
   "source": [
    "## Reglas:\n",
    "\n",
    "- Fecha de entrega: 6 días desde la publicación, 3 días de atraso con 1 punto de descuento c/u. Pueden utilizar días bonus sin descuento.\n",
    "- **Grupos de 2 personas**\n",
    "- Asistencia **obligatoria** a instrucciones del lab (viernes 16.15). Luego, pueden quedarse trabajando en las salas o irse.\n",
    "- **Ausentes tienen nota máxima 6.0**. \n",
    "- Cualquier duda fuera del horario de clases al foro. Mensajes al equipo docente serán respondidos por este medio.\n",
    "- Prohibidas las copias. \n",
    "- Pueden usar cualquer material del curso que estimen conveniente."
   ],
   "block_group": "e30789b4d0e545569e96fe8c91897281"
  },
  {
   "cell_type": "markdown",
   "metadata": {
    "id": "4708b9b7",
    "cell_id": "6cb6045130834122bfa5a6c323983a68",
    "deepnote_cell_height": 249.390625,
    "deepnote_cell_type": "markdown"
   },
   "source": [
    "\n",
    "## Objetivos del lab:\n",
    "\n",
    "Poner en práctica los tópicos básicos del lenguaje de programación Python vistos en clases.\n",
    "\n",
    "- Variables, Operadores y Expresiones.\n",
    "- Estructuras de Control (if/else).\n",
    "- Iteraciones.\n",
    "- Listas y Diccionarios.\n",
    "- Funciones\n",
    "- Programación Orientada a Objetos (Encapsulamiento, Polimorfismo y Herencia)"
   ],
   "block_group": "6cb6045130834122bfa5a6c323983a68"
  },
  {
   "cell_type": "markdown",
   "metadata": {
    "id": "d58b089c",
    "deepnote_cell_height": 567.09375,
    "cell_id": "9085bd920a594bc2a52a3bfdce32e21f",
    "deepnote_cell_type": "markdown"
   },
   "source": [
    "## Parte 1: 🍋 Frutas 🍓 [2.5 puntos]\n",
    "\n",
    "\n",
    "<div align='center'>\n",
    "<img src='https://upload.wikimedia.org/wikipedia/commons/a/a2/Berries_in_Berlin.jpg' width=600/>\n",
    "</div>"
   ],
   "block_group": "9085bd920a594bc2a52a3bfdce32e21f"
  },
  {
   "cell_type": "markdown",
   "metadata": {
    "id": "5fdf6b19",
    "cell_id": "f6bb1ca25b6c4e159a32bf0b9630447d",
    "deepnote_cell_height": 259.59375,
    "deepnote_cell_type": "markdown"
   },
   "source": [
    "Defina las siguientes frutas como diccionarios a partir de sus características (nombre, color, tipo y si posee o no pepas):\n",
    "\n",
    "| Nombre    | Tipo     | Color    | Pepas |\n",
    "|-----------|----------|----------|-------|\n",
    "| limon     | cítrica  | amarillo | True  |\n",
    "| naranja   | cítrica  | naranjo  | True  |\n",
    "| plátano   | tropical | amarillo | False |\n",
    "| piña      | tropical | amarillo | False |\n",
    "| frutilla  | bosque   | rojo     | True |\n",
    "| frambuesa | bosque   | rojo     | True |"
   ],
   "block_group": "f6bb1ca25b6c4e159a32bf0b9630447d"
  },
  {
   "cell_type": "markdown",
   "metadata": {
    "id": "33aed47b",
    "deepnote_cell_height": 122.796875,
    "cell_id": "4566ac14c4fc4a9c9dec81e5def40a60",
    "deepnote_cell_type": "markdown"
   },
   "source": [
    "### Estructurar Datos [0.5 puntos]\n",
    "\n",
    "Agregue Piña, Frutilla y Frambuesa como diccionarios (siga los ejemplos de las frutas dadas) y luego cree una lista que contenga estas frutas.\n"
   ],
   "block_group": "4566ac14c4fc4a9c9dec81e5def40a60"
  },
  {
   "cell_type": "code",
   "metadata": {
    "id": "26d23e26",
    "source_hash": "56db5a38",
    "executionInfo": {
     "user": {
      "userId": "07738957670140287594",
      "photoUrl": "https://lh3.googleusercontent.com/a-/AOh14GhI9R2Sl9kpnSGYDYcmCbQ2_IwnY3_WeFFdC_YSXg=s64",
      "displayName": "Ignacio Meza"
     },
     "status": "ok",
     "elapsed": 204,
     "user_tz": 180,
     "timestamp": 1631284900014
    },
    "execution_start": 1648863016482,
    "execution_millis": 22,
    "deepnote_to_be_reexecuted": false,
    "cell_id": "85cec9afb1044dfc9e588800f2ec12cf",
    "deepnote_cell_type": "code",
    "ExecuteTime": {
     "end_time": "2023-09-01T01:36:27.560705311Z",
     "start_time": "2023-09-01T01:36:27.130831456Z"
    }
   },
   "source": [
    "limon = {\n",
    "    \"nombre\": \"limón\", \n",
    "    \"tipo\": \"cítrica\", \n",
    "    \"color\": \"amarillo\", \n",
    "    \"pepas\": True\n",
    "    }\n",
    "\n",
    "naranja = {\n",
    "    \"nombre\": \"naranja\", \n",
    "    \"tipo\": \"cítrica\", \n",
    "    \"color\": \"naranjo\", \n",
    "    \"pepas\": True\n",
    "    }\n",
    "\n",
    "platano = {\n",
    "    \"nombre\": \"plátano\", \n",
    "    \"tipo\": \"tropical\", \n",
    "    \"color\": \"amarillo\", \n",
    "    \"pepas\": False\n",
    "    }\n",
    "          \n",
    "# agregar las frutas que faltan aquí\n",
    "\n",
    "piña = {\n",
    "    \"nombre\": \"piña\",\n",
    "    \"tipo\": \"tropical\",\n",
    "    \"color\": \"amarillo\",\n",
    "    \"pepas\": False\n",
    "}\n",
    "\n",
    "frutilla = {\n",
    "    \"nombre\": \"frutilla\",\n",
    "    \"tipo\": \"bosque\",\n",
    "    \"color\": \"rojo\",\n",
    "    \"pepas\": True\n",
    "}\n",
    "\n",
    "frambuesa = {\n",
    "    \"nombre\": \"frambuesa\",\n",
    "    \"tipo\": \"bosque\",\n",
    "    \"color\": \"rojo\",\n",
    "    \"pepas\": True\n",
    "}\n"
   ],
   "block_group": "85cec9afb1044dfc9e588800f2ec12cf",
   "execution_count": 137,
   "outputs": []
  },
  {
   "cell_type": "markdown",
   "metadata": {
    "id": "259ee333",
    "cell_id": "450f0542818f4605b92e4aa94d47ce25",
    "deepnote_cell_height": 52.390625,
    "deepnote_cell_type": "markdown"
   },
   "source": [
    "Ahora, agregue todas las frutas a una lista."
   ],
   "block_group": "450f0542818f4605b92e4aa94d47ce25"
  },
  {
   "cell_type": "code",
   "metadata": {
    "id": "fcf62186",
    "source_hash": "78d4e62",
    "executionInfo": {
     "user": {
      "userId": "07738957670140287594",
      "photoUrl": "https://lh3.googleusercontent.com/a-/AOh14GhI9R2Sl9kpnSGYDYcmCbQ2_IwnY3_WeFFdC_YSXg=s64",
      "displayName": "Ignacio Meza"
     },
     "status": "ok",
     "elapsed": 3,
     "user_tz": 180,
     "timestamp": 1631284901845
    },
    "execution_start": 1648863016524,
    "execution_millis": 29,
    "deepnote_to_be_reexecuted": false,
    "cell_id": "fcf275e66bb44531b98ec3f19a7da467",
    "deepnote_cell_type": "code",
    "ExecuteTime": {
     "end_time": "2023-09-01T01:36:27.829558299Z",
     "start_time": "2023-09-01T01:36:27.141807281Z"
    }
   },
   "source": [
    "# Ojo: agregue los datos en el mismo orden que aparecen en la tabla\n",
    "datos = [\n",
    "    limon,\n",
    "    naranja,\n",
    "    platano,\n",
    "    piña,\n",
    "    frutilla,\n",
    "    frambuesa\n",
    "]"
   ],
   "block_group": "fcf275e66bb44531b98ec3f19a7da467",
   "execution_count": 138,
   "outputs": []
  },
  {
   "cell_type": "markdown",
   "metadata": {
    "id": "2ed7730e",
    "cell_id": "6368768f93684ef3a2684d4dbcfdb6df",
    "deepnote_cell_height": 52.390625,
    "deepnote_cell_type": "markdown"
   },
   "source": [
    "Esta lista será la información con la que se trabajará durante el lab."
   ],
   "block_group": "6368768f93684ef3a2684d4dbcfdb6df"
  },
  {
   "cell_type": "markdown",
   "metadata": {
    "id": "e9b1e46d",
    "deepnote_cell_height": 62,
    "cell_id": "27cab0ecd65b4b5db1687a40be370a1c",
    "deepnote_cell_type": "markdown"
   },
   "source": [
    "### Funciones Aplicadas a los Datos [2.0 puntos]\n",
    "\n",
    "En esta sección se les pide generar una serie de funciones que cumplan diferentes propósitos. Un aspecto clave de la programación funcional es la apropiada **documentación** de lo que ustedes generen. Si bien existen diferentes formas de documentar código, una de las mas usadas es el formato docstring de `numpy`:\n",
    "\n",
    "```python\n",
    "# manual para describir:\n",
    "# https://numpydoc.readthedocs.io/en/latest/format.html\n",
    "\n",
    "# plantilla (agregar todos los argumentos que sean necesarios)\n",
    "# pensar _type_ como los tipos básicos que hemos visto hasta ahora: int, float, string, list, dict, tuple, set, etc...\n",
    "\n",
    "def funcion_generica(arg1, arg2):\n",
    "    \"\"\"_summary_\n",
    "\n",
    "    Parameters\n",
    "    ----------\n",
    "    arg1 : _type_\n",
    "        _description_\n",
    "    arg2 : _type_\n",
    "        _description_\n",
    "\n",
    "    Returns\n",
    "    -------\n",
    "    _type_\n",
    "        _description_\n",
    "    \"\"\"\n",
    "    return ...\n",
    "```\n"
   ],
   "block_group": "27cab0ecd65b4b5db1687a40be370a1c"
  },
  {
   "cell_type": "markdown",
   "metadata": {
    "cell_id": "521da380d1c94a21a3bbdec5077e4cba",
    "deepnote_cell_type": "markdown"
   },
   "source": [
    "Considerando esto y **sin olvidar la documentación**, se les pide generar las siguientes funciones:\n",
    "\n",
    "**1. La función `generar_descripcion(fruta)` que reciba una fruta genere una descripción de la fruta de la siguiente manera:**\n",
    "\n",
    "```{El/La} {...} es una fruta de tipo {...} de color {...}. {Presenta/No presenta} pepas en su interior.```\n",
    "    \n",
    "Por ejemplo, `generar_descripcion(plátano)` debe generar el siguiente string:\n",
    "    \n",
    "```\n",
    "'El plátano es una fruta de tipo tropical de color amarillo. No presenta pepas en su interior.'\n",
    "```\n",
    "    \n",
    "Indicaciones: \n",
    "- Usen formateo o suma de strings, if, else y for.\n",
    "- Para saber si ocupar 'El' o 'La', pueden acceder al nombre de la fruta y ver cual es el último carácter a través de indexadores `string[indice]`.\n",
    "- Utilice los siguientes test para corroborar el funcionamiento de su código:\n",
    "\n",
    "```python\n",
    "assert generar_descripcion(limon) == \"El limón es una fruta de tipo cítrica de color amarillo. Presenta pepas en su interior.\"\n",
    "assert generar_descripcion(naranja) == \"La naranja es una fruta de tipo cítrica de color naranjo. Presenta pepas en su interior.\"\n",
    "assert generar_descripcion(platano) == \"El plátano es una fruta de tipo tropical de color amarillo. No presenta pepas en su interior.\"\n",
    "assert generar_descripcion(piña) == \"La piña es una fruta de tipo tropical de color amarillo. No presenta pepas en su interior.\"\n",
    "assert generar_descripcion(frutilla) == \"La frutilla es una fruta de tipo bosque de color rojo. Presenta pepas en su interior.\"\n",
    "assert generar_descripcion(frambuesa) == \"La frambuesa es una fruta de tipo bosque de color rojo. Presenta pepas en su interior.\"\n",
    "```"
   ],
   "block_group": "521da380d1c94a21a3bbdec5077e4cba"
  },
  {
   "cell_type": "code",
   "metadata": {
    "cell_id": "533c38d09f7546a9ba5ede71227f9409",
    "deepnote_cell_type": "code",
    "ExecuteTime": {
     "end_time": "2023-09-01T01:36:27.852352551Z",
     "start_time": "2023-09-01T01:36:27.185990193Z"
    }
   },
   "source": [
    "def generar_descripcion(fruta):\n",
    "    \"\"\"Genera la descripcion de una fruta indicando sus caracteristicas.\n",
    "\n",
    "    Parameters\n",
    "    ----------\n",
    "    fruta : dict\n",
    "        diccionario que contiene la informacion de alguna fruta.\n",
    "    \n",
    "    Returns\n",
    "    -------\n",
    "    str\n",
    "        la descripcion de la fruta\n",
    "    \"\"\"\n",
    "    indicadores_la = [\"a\"]\n",
    "    articulo = \"La\" if fruta['nombre'][-1] in indicadores_la else \"El\"\n",
    "    presenta = \"Presenta\" if fruta['pepas'] else \"No presenta\"\n",
    "    return f\"{articulo} {fruta['nombre']} es una fruta de tipo {fruta['tipo']} de color {fruta['color']}. {presenta} pepas en su interior.\""
   ],
   "block_group": "533c38d09f7546a9ba5ede71227f9409",
   "execution_count": 139,
   "outputs": []
  },
  {
   "cell_type": "code",
   "execution_count": 140,
   "outputs": [],
   "source": [
    "# Tests\n",
    "assert generar_descripcion(limon) == \"El limón es una fruta de tipo cítrica de color amarillo. Presenta pepas en su interior.\"\n",
    "assert generar_descripcion(naranja) == \"La naranja es una fruta de tipo cítrica de color naranjo. Presenta pepas en su interior.\"\n",
    "assert generar_descripcion(platano) == \"El plátano es una fruta de tipo tropical de color amarillo. No presenta pepas en su interior.\"\n",
    "assert generar_descripcion(piña) == \"La piña es una fruta de tipo tropical de color amarillo. No presenta pepas en su interior.\"\n",
    "assert generar_descripcion(frutilla) == \"La frutilla es una fruta de tipo bosque de color rojo. Presenta pepas en su interior.\"\n",
    "assert generar_descripcion(frambuesa) == \"La frambuesa es una fruta de tipo bosque de color rojo. Presenta pepas en su interior.\""
   ],
   "metadata": {
    "collapsed": false,
    "ExecuteTime": {
     "end_time": "2023-09-01T01:36:27.857677139Z",
     "start_time": "2023-09-01T01:36:27.202351484Z"
    }
   }
  },
  {
   "cell_type": "markdown",
   "metadata": {
    "cell_id": "40f4763a10004bf9ac8f8d94a8cbe482",
    "deepnote_cell_type": "markdown"
   },
   "source": [
    "**2. La función `describir(datos)` que generalice la función `generar_descripcion` para recibir una lista de frutas y devolver una lista con las descripciones de cada una:**\n",
    "\n",
    "Por ejemplo, `describir([limon, naranja]])` deberá devolver una lista de la forma `[descripcion_limon, descripcion_naranja]`"
   ],
   "block_group": "40f4763a10004bf9ac8f8d94a8cbe482"
  },
  {
   "cell_type": "code",
   "metadata": {
    "cell_id": "5b9a31f617b84bb9b8af2aa71a8249a8",
    "deepnote_cell_type": "code",
    "ExecuteTime": {
     "end_time": "2023-09-01T01:36:27.857898228Z",
     "start_time": "2023-09-01T01:36:27.202645467Z"
    }
   },
   "source": [
    "def describir(datos):\n",
    "    \"\"\"Genera las descripciones de una lista fruta usando la funcion generar_descripcion.\n",
    "\n",
    "    Parameters\n",
    "    ----------\n",
    "    datos : list\n",
    "        lista de diccionarios de frutas.\n",
    "    \n",
    "    Returns\n",
    "    -------\n",
    "    list[str]\n",
    "        lista de strings de descripciones de frutas\n",
    "    \"\"\"\n",
    "    descripciones = []\n",
    "    for i in datos:\n",
    "        descripciones.append(generar_descripcion(i))\n",
    "    return descripciones"
   ],
   "block_group": "5b9a31f617b84bb9b8af2aa71a8249a8",
   "execution_count": 141,
   "outputs": []
  },
  {
   "cell_type": "markdown",
   "metadata": {
    "cell_id": "096d40181b344935a8daed1ef59e1ed3",
    "deepnote_cell_type": "markdown"
   },
   "source": [
    "**3. La función `filtrar_por_pepa(datos, tiene_pepas)` que dado un tipo de fruta y un booleano, retorne las frutas que tienen o no tienen pepas (según el valor de `tiene_pepas`).**\n",
    "    \n",
    "\n",
    "Por ejemplo, `filtrar_por_pepa(datos, True)` deberá retornar una lista con los diccionarios de: naranja, limon, frutilla y frambuesa."
   ],
   "block_group": "096d40181b344935a8daed1ef59e1ed3"
  },
  {
   "cell_type": "code",
   "metadata": {
    "cell_id": "4b929adaff504132824ce55493656849",
    "deepnote_cell_type": "code",
    "ExecuteTime": {
     "end_time": "2023-09-01T01:36:27.883020203Z",
     "start_time": "2023-09-01T01:36:27.214337687Z"
    }
   },
   "source": [
    "def filtrar_por_pepa(datos, tiene_pepas):\n",
    "    \"\"\"retorna una lista de las frutas de datos que contienen o no pepas segun tiene_pepas.\n",
    "\n",
    "    Parameters\n",
    "    ----------\n",
    "    datos : list\n",
    "        lista de diccionarios de frutas.\n",
    "    tiene_pepas : bool\n",
    "        flag para saber que filtrar\n",
    "    \n",
    "    Returns\n",
    "    -------\n",
    "    list[dict]\n",
    "        lista de strings de descripciones de frutas con o sin pepas\n",
    "    \"\"\"\n",
    "    filtrados = []\n",
    "    for fruta in datos:\n",
    "        if fruta[\"pepas\"] == tiene_pepas:\n",
    "            filtrados.append(fruta)\n",
    "    return filtrados"
   ],
   "block_group": "4b929adaff504132824ce55493656849",
   "execution_count": 142,
   "outputs": []
  },
  {
   "cell_type": "markdown",
   "metadata": {
    "cell_id": "31929b2f72f84543b98fa78cbac46745",
    "deepnote_cell_type": "markdown"
   },
   "source": [
    "**4. La función `conteo_colores(datos)` que cree un diccionario que haga un conteo los colores de las frutas.**\n",
    "\n",
    "Para estos datos, la función debería retornar el siguiente diccionario: \n",
    "    \n",
    "```python\n",
    "{\"amarillo\": 3, \"naranjo\": 1, \"rojo\": 2}\n",
    "```"
   ],
   "block_group": "31929b2f72f84543b98fa78cbac46745"
  },
  {
   "cell_type": "code",
   "metadata": {
    "cell_id": "9d58aa3406854329853f32316b6b0d07",
    "deepnote_cell_type": "code",
    "ExecuteTime": {
     "end_time": "2023-09-01T01:36:27.907766456Z",
     "start_time": "2023-09-01T01:36:27.222260443Z"
    }
   },
   "source": [
    "def conteo_colores(datos):\n",
    "    \"\"\"Crea un diccionario con el conteo de los colores de las frutas\n",
    "\n",
    "    Parameters\n",
    "    ----------\n",
    "    datos : list\n",
    "        lista de diccionarios de frutas.\n",
    "    \n",
    "    Returns\n",
    "    -------\n",
    "    dict\n",
    "        conteo de los colores de las frutas\n",
    "    \"\"\"\n",
    "    conteo = {}\n",
    "    for fruta in datos:\n",
    "        if fruta[\"color\"] not in conteo.keys():\n",
    "            conteo[fruta[\"color\"]] = 1\n",
    "        else:\n",
    "            conteo[fruta[\"color\"]] += 1\n",
    "    return conteo"
   ],
   "block_group": "9d58aa3406854329853f32316b6b0d07",
   "execution_count": 143,
   "outputs": []
  },
  {
   "cell_type": "code",
   "execution_count": 144,
   "outputs": [
    {
     "data": {
      "text/plain": "{'amarillo': 3, 'naranjo': 1, 'rojo': 2}"
     },
     "execution_count": 144,
     "metadata": {},
     "output_type": "execute_result"
    }
   ],
   "source": [
    "conteo_colores(datos)"
   ],
   "metadata": {
    "collapsed": false,
    "ExecuteTime": {
     "end_time": "2023-09-01T01:36:27.908161522Z",
     "start_time": "2023-09-01T01:36:27.235667464Z"
    }
   }
  },
  {
   "cell_type": "markdown",
   "metadata": {
    "cell_id": "680376561e244482aef7b577c1753252",
    "deepnote_cell_type": "markdown"
   },
   "source": [
    "**5. La función `obtener_tipos` que devuelva una lista con los tipos únicos de fruta usando `set()`**.\n",
    "\n",
    "Por ejemplo, `obtener_tipos([limon, naranja, platano])` debería devolver `[\"citrica\", \"tropical\"]`"
   ],
   "block_group": "680376561e244482aef7b577c1753252"
  },
  {
   "cell_type": "code",
   "metadata": {
    "cell_id": "0815c695d16d4e10afdc0de3e9e75edd",
    "deepnote_cell_type": "code",
    "ExecuteTime": {
     "end_time": "2023-09-01T01:36:27.913931318Z",
     "start_time": "2023-09-01T01:36:27.258710580Z"
    }
   },
   "source": [
    "def obtener_tipos(datos):\n",
    "    \"\"\"Retorna una lista de los tipos de fruta de datos sin repetidos.\n",
    "    \n",
    "    Parameters\n",
    "    ----------\n",
    "    datos : list\n",
    "        lista de diccionarios de frutas.\n",
    "    \n",
    "    Returns\n",
    "    -------\n",
    "    list[str]\n",
    "        conteo de los colores de las frutas\n",
    "    \"\"\"\n",
    "    tipos = []\n",
    "    for fruta in datos:\n",
    "        if fruta[\"tipo\"] not in tipos:\n",
    "            tipos.append(fruta[\"tipo\"])\n",
    "    tipos = list(set(tipos))\n",
    "    tipos.sort()\n",
    "    return tipos"
   ],
   "block_group": "0815c695d16d4e10afdc0de3e9e75edd",
   "execution_count": 145,
   "outputs": []
  },
  {
   "cell_type": "markdown",
   "metadata": {
    "cell_id": "362d8b70b71b46eea57663b8cba43d9a",
    "deepnote_cell_type": "markdown"
   },
   "source": [
    "**6. Genere tres test para cada una de las funciones de la pregunta 5 y así comprobar que funcionan correctamente.**\n",
    "\n",
    "Se <u>sugiere</u> que se apoyen en las siguientes directrices: \n",
    "- Test para tratar resultados nulos\n",
    "- Test para un subconjunto interesante cuyo resultado no sea nulo\n",
    "- Test para todos los datos"
   ],
   "block_group": "362d8b70b71b46eea57663b8cba43d9a"
  },
  {
   "cell_type": "markdown",
   "metadata": {
    "id": "F2mt7aIusap8",
    "cell_id": "fae9a28ed4b24531910f59386004a311",
    "deepnote_cell_height": 52.390625,
    "deepnote_cell_type": "markdown"
   },
   "source": [
    "**Ejecuten esta celda para comprobar su código:**"
   ],
   "block_group": "fae9a28ed4b24531910f59386004a311"
  },
  {
   "cell_type": "code",
   "metadata": {
    "id": "c39b58c0",
    "source_hash": "af520603",
    "executionInfo": {
     "user": {
      "userId": "07738957670140287594",
      "photoUrl": "https://lh3.googleusercontent.com/a-/AOh14GhI9R2Sl9kpnSGYDYcmCbQ2_IwnY3_WeFFdC_YSXg=s64",
      "displayName": "Ignacio Meza"
     },
     "status": "ok",
     "elapsed": 212,
     "user_tz": 180,
     "timestamp": 1631284905456
    },
    "execution_start": 1648863016644,
    "execution_millis": 0,
    "deepnote_to_be_reexecuted": false,
    "cell_id": "8ab5b3ce3d804416821fb8f1a880b6af",
    "deepnote_cell_type": "code",
    "ExecuteTime": {
     "end_time": "2023-09-01T01:36:27.941049758Z",
     "start_time": "2023-09-01T01:36:27.273132431Z"
    }
   },
   "source": [
    "# Tests generar_descripcion\n",
    "assert generar_descripcion(limon) == \"El limón es una fruta de tipo cítrica de color amarillo. Presenta pepas en su interior.\"\n",
    "assert generar_descripcion(naranja) == \"La naranja es una fruta de tipo cítrica de color naranjo. Presenta pepas en su interior.\"\n",
    "assert generar_descripcion(platano) == \"El plátano es una fruta de tipo tropical de color amarillo. No presenta pepas en su interior.\"\n",
    "assert generar_descripcion(piña) == \"La piña es una fruta de tipo tropical de color amarillo. No presenta pepas en su interior.\"\n",
    "assert generar_descripcion(frutilla) == \"La frutilla es una fruta de tipo bosque de color rojo. Presenta pepas en su interior.\"\n",
    "assert generar_descripcion(frambuesa) == \"La frambuesa es una fruta de tipo bosque de color rojo. Presenta pepas en su interior.\"\n",
    "\n",
    "# ---------------------------------------------------------------------\n",
    "# test describir\n",
    "\n",
    "assert [] == describir([]) # test 1 : nulo\n",
    "assert [generar_descripcion(platano), generar_descripcion(piña)] == describir([platano, piña]) # test 2 : subset\n",
    "assert [generar_descripcion(i) for i in datos] == describir(datos) # test 3 : todos\n",
    "\n",
    "# ---------------------------------------------------------------------\n",
    "# test filtro\n",
    "\n",
    "assert filtrar_por_pepa([], True )== [] # test 1 : nulo\n",
    "assert filtrar_por_pepa([platano, frambuesa], False)  == [platano] # test 2 : subset\n",
    "assert filtrar_por_pepa(datos, False) == [platano, piña] # test 3 : todos\n",
    "\n",
    "# ---------------------------------------------------------------------\n",
    "# test conteo\n",
    "\n",
    "assert conteo_colores([]) == {} # test 1 : nulo\n",
    "assert conteo_colores([platano, piña]) == {\"amarillo\": 2} # test 2 : subset\n",
    "assert conteo_colores(datos) == {'amarillo':3, \"rojo\":2, \"naranjo\":1} # test 3 : todos\n",
    "\n",
    "# ---------------------------------------------------------------------\n",
    "# test tipos\n",
    "\n",
    "assert obtener_tipos([])== [] # test 1 : nulo\n",
    "assert obtener_tipos([limon, naranja, platano]) == [\"cítrica\", \"tropical\"] # test 2 : subset\n",
    "assert obtener_tipos(datos) == [\"bosque\", \"cítrica\", \"tropical\"] # test 3 : todos:"
   ],
   "block_group": "8ab5b3ce3d804416821fb8f1a880b6af",
   "execution_count": 146,
   "outputs": []
  },
  {
   "cell_type": "markdown",
   "metadata": {
    "cell_id": "745ed4bbc60044f182fbc3c4caec5c84",
    "deepnote_cell_type": "markdown"
   },
   "source": [
    "**7. Programe nuevamente las funciones `describir`, `filtrar_por_pepa` y `obtener_tipos`, pero esta vez usando *comprehensions*.**\n",
    "\n",
    "*Hint: Pueden reutilizar la documentación escrita en la pregunta 5*"
   ],
   "block_group": "745ed4bbc60044f182fbc3c4caec5c84"
  },
  {
   "cell_type": "code",
   "metadata": {
    "cell_id": "18b1fa6908a3456483d9bc7f87788b8d",
    "deepnote_cell_type": "code",
    "ExecuteTime": {
     "end_time": "2023-09-01T01:36:27.941304335Z",
     "start_time": "2023-09-01T01:36:27.312396601Z"
    }
   },
   "source": [
    "def obtener_descripciones_v2(datos):\n",
    "    \"\"\"Genera las descripciones de una lista fruta usando la funcion generar_descripcion.\n",
    "\n",
    "    Parameters\n",
    "    ----------\n",
    "    datos : list\n",
    "        lista de diccionarios de frutas.\n",
    "    \n",
    "    Returns\n",
    "    -------\n",
    "    list[str]\n",
    "        lista de strings de descripciones de frutas\n",
    "    \"\"\"\n",
    "    return [generar_descripcion(fruta) for fruta in datos]\n",
    "\n",
    "def filtrar_por_pepa_v2(datos, tiene_pepas):\n",
    "    \"\"\"retorna una lista de las frutas de datos que contienen o no pepas segun tiene_pepas.\n",
    "\n",
    "    Parameters\n",
    "    ----------\n",
    "    datos : list\n",
    "        lista de diccionarios de frutas.\n",
    "    tiene_pepas : bool\n",
    "        flag para saber que filtrar\n",
    "    \n",
    "    Returns\n",
    "    -------\n",
    "    list[dict]\n",
    "        lista de strings de descripciones de frutas con o sin pepas\n",
    "    \"\"\"\n",
    "    return [fruta for fruta in datos if fruta[\"pepas\"]==tiene_pepas]\n",
    "\n",
    "def obtener_tipos_v2(datos):\n",
    "    \"\"\"Retorna una lista de los tipos de fruta de datos sin repetidos.\n",
    "\n",
    "    Parameters\n",
    "    ----------\n",
    "    datos : list\n",
    "        lista de diccionarios de frutas.\n",
    "    \n",
    "    Returns\n",
    "    -------\n",
    "    list[str]\n",
    "        conteo de los colores de las frutas\n",
    "    \"\"\"\n",
    "    return list(set([fruta[\"tipo\"] for fruta in datos]))"
   ],
   "block_group": "18b1fa6908a3456483d9bc7f87788b8d",
   "execution_count": 147,
   "outputs": []
  },
  {
   "cell_type": "markdown",
   "metadata": {
    "id": "492b941a",
    "deepnote_cell_height": 723.59375,
    "cell_id": "70857dcf13464ee2969cc1ce546cce0c",
    "deepnote_cell_type": "markdown"
   },
   "source": [
    "## Parte 2: Electrodomésticos [2.5 puntos]\n",
    "\n",
    "En esta parte se solicitarán un par de clases que permitirá jugar con la Programación Orientada a Objetos.\n",
    "\n",
    "<div align='center'>\n",
    "<img src='https://upload.wikimedia.org/wikipedia/commons/6/67/Breville.jpg' width=400/>\n",
    "</div>\n",
    "\n",
    "\n",
    "### Clase Electrodoméstico [0.5 puntos]\n",
    "\n",
    "Defina la clase `Electrodomestico` que implemente:\n",
    "\n",
    "\n",
    "- Un constructor que defina un atributo de instancia llamado `enchufado` que almacene valores booleanos. \n",
    "- Un método llamado `esta_enchufado(self)` que levante una excepción `Exception` y que termine con la ejecución del programa cuando el atributo enchufado sea `False`. La excepción debe levantar el mensaje `'Alerta ⚠️: El electrodoméstico no está enchufado'`\n",
    "- Un método llamado `enchufar(self)` que cambia el estado de `enchufado` a True.\n",
    "\n"
   ],
   "block_group": "70857dcf13464ee2969cc1ce546cce0c"
  },
  {
   "cell_type": "code",
   "metadata": {
    "id": "9f8aa475",
    "source_hash": "43ca10f0",
    "executionInfo": {
     "user": {
      "userId": "07738957670140287594",
      "photoUrl": "https://lh3.googleusercontent.com/a-/AOh14GhI9R2Sl9kpnSGYDYcmCbQ2_IwnY3_WeFFdC_YSXg=s64",
      "displayName": "Ignacio Meza"
     },
     "status": "ok",
     "elapsed": 211,
     "user_tz": 180,
     "timestamp": 1631284910016
    },
    "execution_start": 1648863016745,
    "execution_millis": 21,
    "deepnote_to_be_reexecuted": false,
    "cell_id": "3c65e471110f49fe9f5b54287ce74c9b",
    "deepnote_cell_type": "code",
    "ExecuteTime": {
     "end_time": "2023-09-01T01:36:27.941432243Z",
     "start_time": "2023-09-01T01:36:27.352641456Z"
    }
   },
   "source": [
    "class Electrodomestico:\n",
    "    \n",
    "    def __init__(self, enchufado: bool):\n",
    "      self.enchufado = enchufado\n",
    "        \n",
    "    def esta_enchufado(self):\n",
    "      if not self.enchufado:\n",
    "          raise Exception('Alerta ⚠️: El electrodoméstico no está enchufado')\n",
    "            \n",
    "    def enchufar(self):\n",
    "      self.enchufado = True"
   ],
   "block_group": "3c65e471110f49fe9f5b54287ce74c9b",
   "execution_count": 148,
   "outputs": []
  },
  {
   "cell_type": "markdown",
   "metadata": {
    "id": "d7d477b5",
    "deepnote_cell_height": 1059.59375,
    "cell_id": "56f3ae20d61d4fcab7763a14531ecbfd",
    "deepnote_cell_type": "markdown"
   },
   "source": [
    "### Clase Jugera [1.0 puntos] \n",
    "\n",
    "\n",
    "<div align='center'>\n",
    "<img src='https://upload.wikimedia.org/wikipedia/commons/b/bb/Liquadora_%28parts%29.JPG' width=400/>\n",
    "</div>\n",
    "\n",
    "\n",
    "Implemente la clase `Jugera` que extiende `Electrodomestico` y que implemente: \n",
    "\n",
    "\n",
    "- Un constructor que tenga una lista de ingredientes frutales (llamado `bandeja`).\n",
    "\n",
    "\n",
    "- Un método llamado `agregar_ingrediente(self, nueva_fruta)` que dado una fruta, agregue esa fruta a la `bandeja`.\n",
    "\n",
    "- Un método llamado `listar_ingredientes(self)` que imprima (con `print`) los ingredientes actuales de la `bandeja` de la siguiente forma: \n",
    "\n",
    "    `Ingredientes en la bandeja: frutilla, frambuesa, piña.`\n",
    "\n",
    "De lo contrario si no tiene ingredientes imprima:\n",
    "\n",
    "    `Bandeja vacía`\n",
    "\n",
    "\n",
    "**Hint:** Investigar el método `join` de un string para generar el string con los nombres de las frutas.\n",
    "    \n",
    "    \n",
    "    \n",
    "\n",
    "- Un método llamado `preparar_jugo(self)` que: \n",
    "    - Primero verifique que el electrodoméstico esté enchufado usando `self.esta_enchufado()`.\n",
    "    - Verifique que haya por lo menos un ingrediente en la `bandeja`. En el caso que no haya, levantar una excepción con contenido `'Error ❌: La bandeja no tiene ingredientes.'`\n",
    "    - Verifique que ninguna fruta tenga pepas. En el caso que haya alguna, imprimir (con `print`) el mensaje de advertencia `'Alerta ⚠️: El jugo puede contener restos de pepas.'`. Puede usar la función definida en la sección anterior.\n",
    "    - Genere un mensaje indicado `Jugo de {nombres de las frutas separadas por una ,} listo. 🏖️🥤 Que lo disfrutes!!! 🥤🏖️. ` (Hint: Usar nuevamente `join`).\n",
    "    - Vacie la `bandeja` (es decir, eliminar todas las frutas de la bandeja).\n",
    "    - Retorne el mensaje generado.\n"
   ],
   "block_group": "56f3ae20d61d4fcab7763a14531ecbfd"
  },
  {
   "cell_type": "code",
   "metadata": {
    "id": "d9db037b",
    "source_hash": "fe592b51",
    "executionInfo": {
     "user": {
      "userId": "07738957670140287594",
      "photoUrl": "https://lh3.googleusercontent.com/a-/AOh14GhI9R2Sl9kpnSGYDYcmCbQ2_IwnY3_WeFFdC_YSXg=s64",
      "displayName": "Ignacio Meza"
     },
     "status": "ok",
     "elapsed": 200,
     "user_tz": 180,
     "timestamp": 1631284912218
    },
    "execution_start": 1648863366156,
    "execution_millis": 0,
    "deepnote_to_be_reexecuted": false,
    "cell_id": "9f42c023a75b4b16b24e5b09d7276e88",
    "deepnote_cell_type": "code",
    "ExecuteTime": {
     "end_time": "2023-09-01T01:36:27.962885165Z",
     "start_time": "2023-09-01T01:36:27.367854420Z"
    }
   },
   "source": [
    "class Jugera(Electrodomestico):\n",
    "    def __init__(self):\n",
    "      super().__init__(False)\n",
    "      self.bandeja = []\n",
    "        \n",
    "    def agregar_ingrediente(self, nueva_fruta):\n",
    "        self.bandeja.append(nueva_fruta)\n",
    "     \n",
    "    def listar_ingredientes(self):\n",
    "        if len(self.bandeja) == 0:\n",
    "            print(\"Bandeja vacia\")\n",
    "        else:\n",
    "            print(\"Ingredientes en la bandeja: \", \", \".join([fruta[\"nombre\"] for fruta in self.bandeja]))\n",
    "    \n",
    "    def preparar_jugo(self):\n",
    "        self.esta_enchufado()\n",
    "        if len(self.bandeja) < 1:\n",
    "            raise Exception('Error ❌: La bandeja no tiene ingredientes.')\n",
    "        if len(filtrar_por_pepa_v2(self.bandeja, True)) > 0:\n",
    "            print('Alerta ⚠️: El jugo puede contener restos de pepas.')\n",
    "        frutas = \", \".join([fruta[\"nombre\"] for fruta in self.bandeja])\n",
    "        msj = f'Jugo de {frutas} listo. 🏖️🥤 Que lo disfrutes!!! 🥤🏖️. '\n",
    "        self.bandeja = []\n",
    "        return msj"
   ],
   "block_group": "9f42c023a75b4b16b24e5b09d7276e88",
   "execution_count": 149,
   "outputs": []
  },
  {
   "cell_type": "markdown",
   "metadata": {
    "id": "6889015a",
    "cell_id": "73d709b368c84bc6a3c5336a6f549eac",
    "deepnote_cell_height": 122.796875,
    "deepnote_cell_type": "markdown"
   },
   "source": [
    "### Interacciones\n",
    "\n",
    "Las siguientes celdas les permitirán probar las interacciones de esta clase.\n",
    "La ejecución es solo referencial y no lleva puntaje. La idea es que la utilice como guía para desarrollar la clase."
   ],
   "block_group": "73d709b368c84bc6a3c5336a6f549eac"
  },
  {
   "cell_type": "code",
   "metadata": {
    "id": "913af660",
    "colab": {
     "base_uri": "https://localhost:8080/"
    },
    "outputId": "7164b289-ab75-48f5-a03f-4396c8841115",
    "source_hash": "239b8903",
    "executionInfo": {
     "user": {
      "userId": "07738957670140287594",
      "photoUrl": "https://lh3.googleusercontent.com/a-/AOh14GhI9R2Sl9kpnSGYDYcmCbQ2_IwnY3_WeFFdC_YSXg=s64",
      "displayName": "Ignacio Meza"
     },
     "status": "ok",
     "elapsed": 269,
     "user_tz": 180,
     "timestamp": 1631284915045
    },
    "execution_start": 1648863369348,
    "execution_millis": 8,
    "deepnote_to_be_reexecuted": false,
    "cell_id": "5c47280064504e948d21f495ca2f8053",
    "deepnote_cell_type": "code",
    "ExecuteTime": {
     "end_time": "2023-09-01T01:36:28.082411050Z",
     "start_time": "2023-09-01T01:36:27.376311583Z"
    }
   },
   "source": [
    "jugera = Jugera()\n",
    "\n",
    "# Como no tenemos ingredientes, listar_ingredientes deberá imprimir 'Bandeja vacía'\n",
    "jugera.listar_ingredientes()"
   ],
   "block_group": "5c47280064504e948d21f495ca2f8053",
   "execution_count": 150,
   "outputs": [
    {
     "name": "stdout",
     "output_type": "stream",
     "text": [
      "Bandeja vacia\n"
     ]
    }
   ]
  },
  {
   "cell_type": "code",
   "metadata": {
    "id": "9d06bf3e",
    "colab": {
     "height": 337,
     "base_uri": "https://localhost:8080/"
    },
    "outputId": "0570ec3a-fc16-4239-b7d2-ed3db46b9cbe",
    "scrolled": false,
    "source_hash": "77689b24",
    "executionInfo": {
     "user": {
      "userId": "14091881033206329524",
      "photoUrl": "https://lh3.googleusercontent.com/a-/AOh14GhZ9wO5kZX0PA8fZAhVQswlN5woaZe0JQGA3vxVLw=s64",
      "displayName": "Pablo Fernando Badilla Torrealba"
     },
     "status": "error",
     "elapsed": 237,
     "user_tz": 240,
     "timestamp": 1630330986057
    },
    "execution_start": 1648863371573,
    "execution_millis": 20,
    "deepnote_to_be_reexecuted": false,
    "cell_id": "7cfdd145bbff42d4a3c66c50d2559120",
    "deepnote_cell_type": "code",
    "ExecuteTime": {
     "end_time": "2023-09-01T01:36:44.600373775Z",
     "start_time": "2023-09-01T01:36:44.234196131Z"
    }
   },
   "source": [
    "# Esta celda debería levantar una excepcion indicando que no está enchufada la jugera.\n",
    "jugera.preparar_jugo()"
   ],
   "block_group": "7cfdd145bbff42d4a3c66c50d2559120",
   "execution_count": 152,
   "outputs": [
    {
     "ename": "Exception",
     "evalue": "Alerta ⚠️: El electrodoméstico no está enchufado",
     "output_type": "error",
     "traceback": [
      "\u001B[0;31m---------------------------------------------------------------------------\u001B[0m",
      "\u001B[0;31mException\u001B[0m                                 Traceback (most recent call last)",
      "Cell \u001B[0;32mIn[152], line 2\u001B[0m\n\u001B[1;32m      1\u001B[0m \u001B[38;5;66;03m# Esta celda debería levantar una excepcion indicando que no está enchufada la jugera.\u001B[39;00m\n\u001B[0;32m----> 2\u001B[0m \u001B[43mjugera\u001B[49m\u001B[38;5;241;43m.\u001B[39;49m\u001B[43mpreparar_jugo\u001B[49m\u001B[43m(\u001B[49m\u001B[43m)\u001B[49m\n",
      "Cell \u001B[0;32mIn[149], line 16\u001B[0m, in \u001B[0;36mJugera.preparar_jugo\u001B[0;34m(self)\u001B[0m\n\u001B[1;32m     15\u001B[0m \u001B[38;5;28;01mdef\u001B[39;00m \u001B[38;5;21mpreparar_jugo\u001B[39m(\u001B[38;5;28mself\u001B[39m):\n\u001B[0;32m---> 16\u001B[0m     \u001B[38;5;28;43mself\u001B[39;49m\u001B[38;5;241;43m.\u001B[39;49m\u001B[43mesta_enchufado\u001B[49m\u001B[43m(\u001B[49m\u001B[43m)\u001B[49m\n\u001B[1;32m     17\u001B[0m     \u001B[38;5;28;01mif\u001B[39;00m \u001B[38;5;28mlen\u001B[39m(\u001B[38;5;28mself\u001B[39m\u001B[38;5;241m.\u001B[39mbandeja) \u001B[38;5;241m<\u001B[39m \u001B[38;5;241m1\u001B[39m:\n\u001B[1;32m     18\u001B[0m         \u001B[38;5;28;01mraise\u001B[39;00m \u001B[38;5;167;01mException\u001B[39;00m(\u001B[38;5;124m'\u001B[39m\u001B[38;5;124mError ❌: La bandeja no tiene ingredientes.\u001B[39m\u001B[38;5;124m'\u001B[39m)\n",
      "Cell \u001B[0;32mIn[148], line 8\u001B[0m, in \u001B[0;36mElectrodomestico.esta_enchufado\u001B[0;34m(self)\u001B[0m\n\u001B[1;32m      6\u001B[0m \u001B[38;5;28;01mdef\u001B[39;00m \u001B[38;5;21mesta_enchufado\u001B[39m(\u001B[38;5;28mself\u001B[39m):\n\u001B[1;32m      7\u001B[0m   \u001B[38;5;28;01mif\u001B[39;00m \u001B[38;5;129;01mnot\u001B[39;00m \u001B[38;5;28mself\u001B[39m\u001B[38;5;241m.\u001B[39menchufado:\n\u001B[0;32m----> 8\u001B[0m       \u001B[38;5;28;01mraise\u001B[39;00m \u001B[38;5;167;01mException\u001B[39;00m(\u001B[38;5;124m'\u001B[39m\u001B[38;5;124mAlerta ⚠️: El electrodoméstico no está enchufado\u001B[39m\u001B[38;5;124m'\u001B[39m)\n",
      "\u001B[0;31mException\u001B[0m: Alerta ⚠️: El electrodoméstico no está enchufado"
     ]
    }
   ]
  },
  {
   "cell_type": "code",
   "metadata": {
    "id": "3ad38f18",
    "source_hash": "36a2ab49",
    "execution_start": 1648863372430,
    "execution_millis": 0,
    "deepnote_to_be_reexecuted": false,
    "cell_id": "6a19f22b8c684cad81373a1a3d0fb64c",
    "deepnote_cell_type": "code",
    "ExecuteTime": {
     "end_time": "2023-09-01T01:36:47.391152393Z",
     "start_time": "2023-09-01T01:36:47.238866508Z"
    }
   },
   "source": [
    "# Enchufamos el electrodoméstico\n",
    "jugera.enchufar()"
   ],
   "block_group": "6a19f22b8c684cad81373a1a3d0fb64c",
   "execution_count": 153,
   "outputs": []
  },
  {
   "cell_type": "code",
   "metadata": {
    "id": "48009872",
    "colab": {
     "height": 299,
     "base_uri": "https://localhost:8080/"
    },
    "outputId": "c340d269-afa0-4d70-e489-d5c3710dda6e",
    "scrolled": true,
    "source_hash": "27514b2c",
    "executionInfo": {
     "user": {
      "userId": "07738957670140287594",
      "photoUrl": "https://lh3.googleusercontent.com/a-/AOh14GhI9R2Sl9kpnSGYDYcmCbQ2_IwnY3_WeFFdC_YSXg=s64",
      "displayName": "Ignacio Meza"
     },
     "status": "error",
     "elapsed": 235,
     "user_tz": 240,
     "timestamp": 1630289215369
    },
    "execution_start": 1648863376136,
    "execution_millis": 173,
    "deepnote_to_be_reexecuted": false,
    "cell_id": "c6d5077fdb3d4025b877769428edc14a",
    "deepnote_cell_type": "code",
    "ExecuteTime": {
     "end_time": "2023-09-01T01:36:47.518458354Z",
     "start_time": "2023-09-01T01:36:47.248097257Z"
    }
   },
   "source": [
    "# Esta celda debería levantar ina excepción informandoles que la bandeja no tiene ingredientes.\n",
    "jugera.preparar_jugo()"
   ],
   "block_group": "c6d5077fdb3d4025b877769428edc14a",
   "execution_count": 154,
   "outputs": [
    {
     "ename": "Exception",
     "evalue": "Error ❌: La bandeja no tiene ingredientes.",
     "output_type": "error",
     "traceback": [
      "\u001B[0;31m---------------------------------------------------------------------------\u001B[0m",
      "\u001B[0;31mException\u001B[0m                                 Traceback (most recent call last)",
      "Cell \u001B[0;32mIn[154], line 2\u001B[0m\n\u001B[1;32m      1\u001B[0m \u001B[38;5;66;03m# Esta celda debería levantar ina excepción informandoles que la bandeja no tiene ingredientes.\u001B[39;00m\n\u001B[0;32m----> 2\u001B[0m \u001B[43mjugera\u001B[49m\u001B[38;5;241;43m.\u001B[39;49m\u001B[43mpreparar_jugo\u001B[49m\u001B[43m(\u001B[49m\u001B[43m)\u001B[49m\n",
      "Cell \u001B[0;32mIn[149], line 18\u001B[0m, in \u001B[0;36mJugera.preparar_jugo\u001B[0;34m(self)\u001B[0m\n\u001B[1;32m     16\u001B[0m \u001B[38;5;28mself\u001B[39m\u001B[38;5;241m.\u001B[39mesta_enchufado()\n\u001B[1;32m     17\u001B[0m \u001B[38;5;28;01mif\u001B[39;00m \u001B[38;5;28mlen\u001B[39m(\u001B[38;5;28mself\u001B[39m\u001B[38;5;241m.\u001B[39mbandeja) \u001B[38;5;241m<\u001B[39m \u001B[38;5;241m1\u001B[39m:\n\u001B[0;32m---> 18\u001B[0m     \u001B[38;5;28;01mraise\u001B[39;00m \u001B[38;5;167;01mException\u001B[39;00m(\u001B[38;5;124m'\u001B[39m\u001B[38;5;124mError ❌: La bandeja no tiene ingredientes.\u001B[39m\u001B[38;5;124m'\u001B[39m)\n\u001B[1;32m     19\u001B[0m \u001B[38;5;28;01mif\u001B[39;00m \u001B[38;5;28mlen\u001B[39m(filtrar_por_pepa_v2(\u001B[38;5;28mself\u001B[39m\u001B[38;5;241m.\u001B[39mbandeja, \u001B[38;5;28;01mTrue\u001B[39;00m)) \u001B[38;5;241m>\u001B[39m \u001B[38;5;241m0\u001B[39m:\n\u001B[1;32m     20\u001B[0m     \u001B[38;5;28mprint\u001B[39m(\u001B[38;5;124m'\u001B[39m\u001B[38;5;124mAlerta ⚠️: El jugo puede contener restos de pepas.\u001B[39m\u001B[38;5;124m'\u001B[39m)\n",
      "\u001B[0;31mException\u001B[0m: Error ❌: La bandeja no tiene ingredientes."
     ]
    }
   ]
  },
  {
   "cell_type": "code",
   "metadata": {
    "id": "4873e0bf",
    "colab": {
     "base_uri": "https://localhost:8080/"
    },
    "outputId": "4ee534c1-047a-44e7-a78f-dfb2f9c35ecc",
    "source_hash": "a8f0979e",
    "executionInfo": {
     "user": {
      "userId": "07738957670140287594",
      "photoUrl": "https://lh3.googleusercontent.com/a-/AOh14GhI9R2Sl9kpnSGYDYcmCbQ2_IwnY3_WeFFdC_YSXg=s64",
      "displayName": "Ignacio Meza"
     },
     "status": "ok",
     "elapsed": 194,
     "user_tz": 180,
     "timestamp": 1631284926980
    },
    "execution_start": 1648863377052,
    "execution_millis": 6,
    "deepnote_to_be_reexecuted": false,
    "cell_id": "c29aa5b7dc3745ff90ddadee72e24b3f",
    "deepnote_cell_type": "code",
    "ExecuteTime": {
     "end_time": "2023-09-01T01:36:50.124621334Z",
     "start_time": "2023-09-01T01:36:49.982157702Z"
    }
   },
   "source": [
    "# Agregamos algunos ingredientes\n",
    "jugera.agregar_ingrediente(naranja)\n",
    "jugera.agregar_ingrediente(platano)\n",
    "\n",
    "# Y los listamos (debería imprimir: 'Ingredientes en la bandeja: naranja, plátano')\n",
    "jugera.listar_ingredientes()"
   ],
   "block_group": "c29aa5b7dc3745ff90ddadee72e24b3f",
   "execution_count": 156,
   "outputs": [
    {
     "name": "stdout",
     "output_type": "stream",
     "text": [
      "Ingredientes en la bandeja:  naranja, plátano\n"
     ]
    }
   ]
  },
  {
   "cell_type": "code",
   "metadata": {
    "id": "ff555151",
    "colab": {
     "height": 35,
     "base_uri": "https://localhost:8080/"
    },
    "outputId": "a1645680-8b1c-47d7-f2c0-111198632692",
    "source_hash": "7086345e",
    "executionInfo": {
     "user": {
      "userId": "07738957670140287594",
      "photoUrl": "https://lh3.googleusercontent.com/a-/AOh14GhI9R2Sl9kpnSGYDYcmCbQ2_IwnY3_WeFFdC_YSXg=s64",
      "displayName": "Ignacio Meza"
     },
     "status": "ok",
     "elapsed": 4,
     "user_tz": 240,
     "timestamp": 1630289217727
    },
    "execution_start": 1648863380098,
    "execution_millis": 5,
    "deepnote_to_be_reexecuted": false,
    "cell_id": "d1890bc44c104a85a090ee3e997e1df9",
    "deepnote_cell_type": "code",
    "ExecuteTime": {
     "end_time": "2023-09-01T01:36:50.241145508Z",
     "start_time": "2023-09-01T01:36:49.992768535Z"
    }
   },
   "source": [
    "# Preparamos el jugo: 'Jugo de naranja, plátano listo. 🏖️🥤 Que lo disfrutes!!! 🥤🏖️.'\n",
    "jugera.preparar_jugo()"
   ],
   "block_group": "d1890bc44c104a85a090ee3e997e1df9",
   "execution_count": 157,
   "outputs": [
    {
     "name": "stdout",
     "output_type": "stream",
     "text": [
      "Alerta ⚠️: El jugo puede contener restos de pepas.\n"
     ]
    },
    {
     "data": {
      "text/plain": "'Jugo de naranja, plátano listo. 🏖️🥤 Que lo disfrutes!!! 🥤🏖️. '"
     },
     "execution_count": 157,
     "metadata": {},
     "output_type": "execute_result"
    }
   ]
  },
  {
   "cell_type": "code",
   "metadata": {
    "id": "bbc532b2",
    "colab": {
     "base_uri": "https://localhost:8080/"
    },
    "outputId": "b4c0f575-3a0c-45ab-dec0-6bd27b30d9e7",
    "source_hash": "6a032d0a",
    "executionInfo": {
     "user": {
      "userId": "07738957670140287594",
      "photoUrl": "https://lh3.googleusercontent.com/a-/AOh14GhI9R2Sl9kpnSGYDYcmCbQ2_IwnY3_WeFFdC_YSXg=s64",
      "displayName": "Ignacio Meza"
     },
     "status": "ok",
     "elapsed": 3,
     "user_tz": 240,
     "timestamp": 1630289219060
    },
    "execution_start": 1648863382273,
    "execution_millis": 0,
    "deepnote_to_be_reexecuted": false,
    "cell_id": "323edee62a1d432d9ca2eadaa8a9f2c4",
    "deepnote_cell_type": "code",
    "ExecuteTime": {
     "end_time": "2023-09-01T01:36:50.241458002Z",
     "start_time": "2023-09-01T01:36:50.007907909Z"
    }
   },
   "source": [
    "# Una vez preparado el jugo, debería vaciarse la bandeja (imprimir Bandeja vacía)\n",
    "jugera.listar_ingredientes()"
   ],
   "block_group": "323edee62a1d432d9ca2eadaa8a9f2c4",
   "execution_count": 158,
   "outputs": [
    {
     "name": "stdout",
     "output_type": "stream",
     "text": [
      "Bandeja vacia\n"
     ]
    }
   ]
  },
  {
   "cell_type": "markdown",
   "metadata": {
    "id": "972dbcac",
    "deepnote_cell_height": 297.1875,
    "cell_id": "aa7c6610855d48bb85848283fe9fcca0",
    "deepnote_cell_type": "markdown"
   },
   "source": [
    "### Clase Jugera + Properties  [1.0 puntos]\n",
    "\n",
    "Implementar `bandeja` usando una `property` que permita setear una `nueva_bandeja` como `bandeja` según las siguientes condiciones:\n",
    "\n",
    "\n",
    "- Compruebe que `nueva_bandeja` sea una lista. En caso contrario, levante una excepción.\n",
    "- No permita agregar más de 3 ingredientes a la bandeja a la vez. Si se entregan más de 3 frutas, se levante una excepción.\n",
    "- Se compruebe que todos los elementos de la lista sean frutas. Para esto, por cada fruta compruebe que:\n",
    "    1. La fruta sea diccionario.\n",
    "    2. El diccionario entregado tenga las llaves `nombre`, `tipo`, `color` y `pepas`."
   ],
   "block_group": "aa7c6610855d48bb85848283fe9fcca0"
  },
  {
   "cell_type": "code",
   "metadata": {
    "id": "X3RXI9nisGfa",
    "source_hash": "68977855",
    "executionInfo": {
     "user": {
      "userId": "07738957670140287594",
      "photoUrl": "https://lh3.googleusercontent.com/a-/AOh14GhI9R2Sl9kpnSGYDYcmCbQ2_IwnY3_WeFFdC_YSXg=s64",
      "displayName": "Ignacio Meza"
     },
     "status": "ok",
     "elapsed": 229,
     "user_tz": 180,
     "timestamp": 1631284838081
    },
    "execution_start": 1648863394051,
    "execution_millis": 5,
    "deepnote_to_be_reexecuted": false,
    "cell_id": "806570623e07479eb9eb68009e97af06",
    "deepnote_cell_type": "code",
    "ExecuteTime": {
     "end_time": "2023-09-01T01:37:37.226383037Z",
     "start_time": "2023-09-01T01:37:37.168762193Z"
    }
   },
   "source": [
    "class Jugera(Electrodomestico):\n",
    "    \n",
    "    def __init__(self):\n",
    "        super().__init__(False)\n",
    "        self.bandeja = []\n",
    "\n",
    "    @property\n",
    "    def bandeja(self):\n",
    "        return self._bandeja\n",
    "        \n",
    "    @bandeja.setter\n",
    "    def bandeja(self, nueva_bandeja):\n",
    "        if not type(nueva_bandeja) == list:\n",
    "            raise TypeError(f\"Bandeja should be a list but got {type(nueva_bandeja)}.\")\n",
    "        if len(nueva_bandeja) > 3:\n",
    "            raise Exception(\"Bandeja muy llena\")\n",
    "        accepted_keys = [\"nombre\", \"tipo\", \"color\", \"pepas\"]\n",
    "        for fruta in nueva_bandeja:\n",
    "            if type(fruta) != dict:\n",
    "                raise Exception(\"Intenta añadir algo que no es una fruta\")\n",
    "            if fruta.keys() != accepted_keys:\n",
    "                raise Exception(\"Fruta sin formato\")\n",
    "        self._bandeja = nueva_bandeja\n",
    "\n",
    "    def agregar_ingrediente(self, nueva_fruta):\n",
    "        self.bandeja.append(nueva_fruta)\n",
    "\n",
    "    def listar_ingredientes(self):\n",
    "        if len(self.bandeja) == 0:\n",
    "            print(\"Bandeja vacia\")\n",
    "        else:\n",
    "            print(\"Ingredientes en la bandeja: \", \", \".join([fruta[\"nombre\"] for fruta in self.bandeja]))\n",
    "\n",
    "    def preparar_jugo(self):\n",
    "        self.esta_enchufado()\n",
    "        if len(self.bandeja) < 1:\n",
    "            raise Exception('Error ❌: La bandeja no tiene ingredientes.')\n",
    "        if len(filtrar_por_pepa_v2(self.bandeja, True)) > 0:\n",
    "            print('Alerta ⚠️: El jugo puede contener restos de pepas.')\n",
    "        frutas = \", \".join([fruta[\"nombre\"] for fruta in self.bandeja])\n",
    "        msj = f'Jugo de {frutas} listo. 🏖️🥤 Que lo disfrutes!!! 🥤🏖️. '\n",
    "        self.bandeja = []\n",
    "        return msj\n",
    "        \n",
    "        return mensaje"
   ],
   "block_group": "806570623e07479eb9eb68009e97af06",
   "execution_count": 168,
   "outputs": []
  },
  {
   "cell_type": "markdown",
   "metadata": {
    "tags": [],
    "cell_id": "7002ed07ad6a435288ecbe4513d9d10e",
    "deepnote_cell_height": 122.796875,
    "deepnote_cell_type": "markdown"
   },
   "source": [
    "### Interacciones\n",
    "\n",
    "Las siguientes celdas les permitirán probar las interacciones de esta clase.\n",
    "La ejecución es solo referencial y no lleva puntaje. La idea es que la utilice como guía para desarrollar la clase."
   ],
   "block_group": "7002ed07ad6a435288ecbe4513d9d10e"
  },
  {
   "cell_type": "code",
   "metadata": {
    "tags": [],
    "source_hash": "d7617c26",
    "execution_start": 1648863396777,
    "execution_millis": 4,
    "deepnote_to_be_reexecuted": false,
    "cell_id": "61fb1b1ad18b4e94a88a959780730c58",
    "deepnote_cell_type": "code",
    "ExecuteTime": {
     "end_time": "2023-09-01T01:36:50.417131171Z",
     "start_time": "2023-09-01T01:36:50.068675062Z"
    }
   },
   "source": [
    "jugera_2 = Jugera()\n",
    "\n",
    "jugera_2.listar_ingredientes()"
   ],
   "block_group": "61fb1b1ad18b4e94a88a959780730c58",
   "execution_count": 160,
   "outputs": [
    {
     "name": "stdout",
     "output_type": "stream",
     "text": [
      "Bandeja vacia\n"
     ]
    }
   ]
  },
  {
   "cell_type": "code",
   "metadata": {
    "tags": [],
    "source_hash": "480070d3",
    "execution_start": 1648863398145,
    "execution_millis": 18,
    "deepnote_to_be_reexecuted": false,
    "cell_id": "4089968aee614a0298c852722ac6b56c",
    "deepnote_cell_type": "code",
    "ExecuteTime": {
     "end_time": "2023-09-01T01:36:50.436519992Z",
     "start_time": "2023-09-01T01:36:50.068967405Z"
    }
   },
   "source": [
    "jugera_2.preparar_jugo()"
   ],
   "block_group": "4089968aee614a0298c852722ac6b56c",
   "execution_count": 161,
   "outputs": [
    {
     "ename": "Exception",
     "evalue": "Alerta ⚠️: El electrodoméstico no está enchufado",
     "output_type": "error",
     "traceback": [
      "\u001B[0;31m---------------------------------------------------------------------------\u001B[0m",
      "\u001B[0;31mException\u001B[0m                                 Traceback (most recent call last)",
      "Cell \u001B[0;32mIn[161], line 1\u001B[0m\n\u001B[0;32m----> 1\u001B[0m \u001B[43mjugera_2\u001B[49m\u001B[38;5;241;43m.\u001B[39;49m\u001B[43mpreparar_jugo\u001B[49m\u001B[43m(\u001B[49m\u001B[43m)\u001B[49m\n",
      "Cell \u001B[0;32mIn[159], line 36\u001B[0m, in \u001B[0;36mJugera.preparar_jugo\u001B[0;34m(self)\u001B[0m\n\u001B[1;32m     35\u001B[0m \u001B[38;5;28;01mdef\u001B[39;00m \u001B[38;5;21mpreparar_jugo\u001B[39m(\u001B[38;5;28mself\u001B[39m):\n\u001B[0;32m---> 36\u001B[0m     \u001B[38;5;28;43mself\u001B[39;49m\u001B[38;5;241;43m.\u001B[39;49m\u001B[43mesta_enchufado\u001B[49m\u001B[43m(\u001B[49m\u001B[43m)\u001B[49m\n\u001B[1;32m     37\u001B[0m     \u001B[38;5;28;01mif\u001B[39;00m \u001B[38;5;28mlen\u001B[39m(\u001B[38;5;28mself\u001B[39m\u001B[38;5;241m.\u001B[39mbandeja) \u001B[38;5;241m<\u001B[39m \u001B[38;5;241m1\u001B[39m:\n\u001B[1;32m     38\u001B[0m         \u001B[38;5;28;01mraise\u001B[39;00m \u001B[38;5;167;01mException\u001B[39;00m(\u001B[38;5;124m'\u001B[39m\u001B[38;5;124mError ❌: La bandeja no tiene ingredientes.\u001B[39m\u001B[38;5;124m'\u001B[39m)\n",
      "Cell \u001B[0;32mIn[148], line 8\u001B[0m, in \u001B[0;36mElectrodomestico.esta_enchufado\u001B[0;34m(self)\u001B[0m\n\u001B[1;32m      6\u001B[0m \u001B[38;5;28;01mdef\u001B[39;00m \u001B[38;5;21mesta_enchufado\u001B[39m(\u001B[38;5;28mself\u001B[39m):\n\u001B[1;32m      7\u001B[0m   \u001B[38;5;28;01mif\u001B[39;00m \u001B[38;5;129;01mnot\u001B[39;00m \u001B[38;5;28mself\u001B[39m\u001B[38;5;241m.\u001B[39menchufado:\n\u001B[0;32m----> 8\u001B[0m       \u001B[38;5;28;01mraise\u001B[39;00m \u001B[38;5;167;01mException\u001B[39;00m(\u001B[38;5;124m'\u001B[39m\u001B[38;5;124mAlerta ⚠️: El electrodoméstico no está enchufado\u001B[39m\u001B[38;5;124m'\u001B[39m)\n",
      "\u001B[0;31mException\u001B[0m: Alerta ⚠️: El electrodoméstico no está enchufado"
     ]
    }
   ]
  },
  {
   "cell_type": "code",
   "metadata": {
    "tags": [],
    "source_hash": "d3e1edd9",
    "execution_start": 1648863398900,
    "execution_millis": 3,
    "deepnote_to_be_reexecuted": false,
    "cell_id": "c22db666b01740409ea10d8c65c3f4f0",
    "deepnote_cell_type": "code",
    "ExecuteTime": {
     "end_time": "2023-09-01T01:36:58.893122891Z",
     "start_time": "2023-09-01T01:36:58.752738387Z"
    }
   },
   "source": [
    "# Enchufamos el electrodoméstico\n",
    "jugera_2.enchufar()"
   ],
   "block_group": "c22db666b01740409ea10d8c65c3f4f0",
   "execution_count": 163,
   "outputs": []
  },
  {
   "cell_type": "code",
   "metadata": {
    "tags": [],
    "source_hash": "b81f1f5b",
    "execution_start": 1648863400238,
    "execution_millis": 17,
    "deepnote_to_be_reexecuted": false,
    "cell_id": "b278da54f71e446ab773a9be8e47a921",
    "deepnote_cell_type": "code",
    "ExecuteTime": {
     "end_time": "2023-09-01T01:36:58.935155857Z",
     "start_time": "2023-09-01T01:36:58.785678755Z"
    }
   },
   "source": [
    "# Esta celda debería levantar ina excepción informandoles que la bandeja no tiene ingredientes.\n",
    "jugera_2.preparar_jugo()"
   ],
   "block_group": "b278da54f71e446ab773a9be8e47a921",
   "execution_count": 164,
   "outputs": [
    {
     "ename": "Exception",
     "evalue": "Error ❌: La bandeja no tiene ingredientes.",
     "output_type": "error",
     "traceback": [
      "\u001B[0;31m---------------------------------------------------------------------------\u001B[0m",
      "\u001B[0;31mException\u001B[0m                                 Traceback (most recent call last)",
      "Cell \u001B[0;32mIn[164], line 2\u001B[0m\n\u001B[1;32m      1\u001B[0m \u001B[38;5;66;03m# Esta celda debería levantar ina excepción informandoles que la bandeja no tiene ingredientes.\u001B[39;00m\n\u001B[0;32m----> 2\u001B[0m \u001B[43mjugera_2\u001B[49m\u001B[38;5;241;43m.\u001B[39;49m\u001B[43mpreparar_jugo\u001B[49m\u001B[43m(\u001B[49m\u001B[43m)\u001B[49m\n",
      "Cell \u001B[0;32mIn[162], line 38\u001B[0m, in \u001B[0;36mJugera.preparar_jugo\u001B[0;34m(self)\u001B[0m\n\u001B[1;32m     36\u001B[0m \u001B[38;5;28mself\u001B[39m\u001B[38;5;241m.\u001B[39mesta_enchufado()\n\u001B[1;32m     37\u001B[0m \u001B[38;5;28;01mif\u001B[39;00m \u001B[38;5;28mlen\u001B[39m(\u001B[38;5;28mself\u001B[39m\u001B[38;5;241m.\u001B[39mbandeja) \u001B[38;5;241m<\u001B[39m \u001B[38;5;241m1\u001B[39m:\n\u001B[0;32m---> 38\u001B[0m     \u001B[38;5;28;01mraise\u001B[39;00m \u001B[38;5;167;01mException\u001B[39;00m(\u001B[38;5;124m'\u001B[39m\u001B[38;5;124mError ❌: La bandeja no tiene ingredientes.\u001B[39m\u001B[38;5;124m'\u001B[39m)\n\u001B[1;32m     39\u001B[0m \u001B[38;5;28;01mif\u001B[39;00m \u001B[38;5;28mlen\u001B[39m(filtrar_por_pepa_v2(\u001B[38;5;28mself\u001B[39m\u001B[38;5;241m.\u001B[39mbandeja, \u001B[38;5;28;01mTrue\u001B[39;00m)) \u001B[38;5;241m>\u001B[39m \u001B[38;5;241m0\u001B[39m:\n\u001B[1;32m     40\u001B[0m     \u001B[38;5;28mprint\u001B[39m(\u001B[38;5;124m'\u001B[39m\u001B[38;5;124mAlerta ⚠️: El jugo puede contener restos de pepas.\u001B[39m\u001B[38;5;124m'\u001B[39m)\n",
      "\u001B[0;31mException\u001B[0m: Error ❌: La bandeja no tiene ingredientes."
     ]
    }
   ]
  },
  {
   "cell_type": "code",
   "metadata": {
    "tags": [],
    "source_hash": "a016a727",
    "execution_start": 1648863402271,
    "execution_millis": 482,
    "deepnote_to_be_reexecuted": false,
    "cell_id": "3ad3896a485947d99be890cffca26f08",
    "deepnote_cell_type": "code",
    "ExecuteTime": {
     "end_time": "2023-09-01T01:37:01.999987089Z",
     "start_time": "2023-09-01T01:37:01.869617319Z"
    }
   },
   "source": [
    "# Agregamos algunos ingredientes (en este caso, como son más de 3, fallará)\n",
    "jugera_2.bandeja = [naranja, platano, frutilla, limon]"
   ],
   "block_group": "3ad3896a485947d99be890cffca26f08",
   "execution_count": 165,
   "outputs": [
    {
     "ename": "Exception",
     "evalue": "Bandeja muy llena",
     "output_type": "error",
     "traceback": [
      "\u001B[0;31m---------------------------------------------------------------------------\u001B[0m",
      "\u001B[0;31mException\u001B[0m                                 Traceback (most recent call last)",
      "Cell \u001B[0;32mIn[165], line 2\u001B[0m\n\u001B[1;32m      1\u001B[0m \u001B[38;5;66;03m# Agregamos algunos ingredientes (en este caso, como son más de 3, fallará)\u001B[39;00m\n\u001B[0;32m----> 2\u001B[0m \u001B[43mjugera_2\u001B[49m\u001B[38;5;241;43m.\u001B[39;49m\u001B[43mbandeja\u001B[49m \u001B[38;5;241m=\u001B[39m [naranja, platano, frutilla, limon]\n",
      "Cell \u001B[0;32mIn[162], line 16\u001B[0m, in \u001B[0;36mJugera.bandeja\u001B[0;34m(self, nueva_bandeja)\u001B[0m\n\u001B[1;32m     14\u001B[0m     \u001B[38;5;28;01mraise\u001B[39;00m \u001B[38;5;167;01mTypeError\u001B[39;00m(\u001B[38;5;124mf\u001B[39m\u001B[38;5;124m\"\u001B[39m\u001B[38;5;124mBandeja should be a list but got \u001B[39m\u001B[38;5;132;01m{\u001B[39;00m\u001B[38;5;28mtype\u001B[39m(nueva_bandeja)\u001B[38;5;132;01m}\u001B[39;00m\u001B[38;5;124m.\u001B[39m\u001B[38;5;124m\"\u001B[39m)\n\u001B[1;32m     15\u001B[0m \u001B[38;5;28;01mif\u001B[39;00m \u001B[38;5;28mlen\u001B[39m(nueva_bandeja) \u001B[38;5;241m>\u001B[39m \u001B[38;5;241m3\u001B[39m:\n\u001B[0;32m---> 16\u001B[0m     \u001B[38;5;28;01mraise\u001B[39;00m \u001B[38;5;167;01mException\u001B[39;00m(\u001B[38;5;124m\"\u001B[39m\u001B[38;5;124mBandeja muy llena\u001B[39m\u001B[38;5;124m\"\u001B[39m)\n\u001B[1;32m     17\u001B[0m accepted_keys \u001B[38;5;241m=\u001B[39m [\u001B[38;5;124m\"\u001B[39m\u001B[38;5;124mnombre\u001B[39m\u001B[38;5;124m\"\u001B[39m, \u001B[38;5;124m\"\u001B[39m\u001B[38;5;124mtipo\u001B[39m\u001B[38;5;124m\"\u001B[39m, \u001B[38;5;124m\"\u001B[39m\u001B[38;5;124mcolor\u001B[39m\u001B[38;5;124m\"\u001B[39m, \u001B[38;5;124m\"\u001B[39m\u001B[38;5;124mpepas\u001B[39m\u001B[38;5;124m\"\u001B[39m]\n\u001B[1;32m     18\u001B[0m \u001B[38;5;28;01mfor\u001B[39;00m fruta \u001B[38;5;129;01min\u001B[39;00m nueva_bandeja:\n",
      "\u001B[0;31mException\u001B[0m: Bandeja muy llena"
     ]
    }
   ]
  },
  {
   "cell_type": "code",
   "metadata": {
    "tags": [],
    "source_hash": "561a3ff9",
    "execution_start": 1648863404537,
    "execution_millis": 20,
    "deepnote_to_be_reexecuted": false,
    "cell_id": "314f0f7e4621417b973ff5202c24e2b0",
    "deepnote_cell_type": "code",
    "ExecuteTime": {
     "end_time": "2023-09-01T01:37:04.397857280Z",
     "start_time": "2023-09-01T01:37:04.251295309Z"
    }
   },
   "source": [
    "# Agregamos algunos ingredientes \n",
    "# (en este caso debería fallar, ya que estamos entregando un string en el primer lugar)\n",
    "jugera_2.bandeja = [\"naranja\", platano, frutilla]"
   ],
   "block_group": "314f0f7e4621417b973ff5202c24e2b0",
   "execution_count": 166,
   "outputs": [
    {
     "ename": "Exception",
     "evalue": "Intenta añadir algo que no es una fruta",
     "output_type": "error",
     "traceback": [
      "\u001B[0;31m---------------------------------------------------------------------------\u001B[0m",
      "\u001B[0;31mException\u001B[0m                                 Traceback (most recent call last)",
      "Cell \u001B[0;32mIn[166], line 3\u001B[0m\n\u001B[1;32m      1\u001B[0m \u001B[38;5;66;03m# Agregamos algunos ingredientes \u001B[39;00m\n\u001B[1;32m      2\u001B[0m \u001B[38;5;66;03m# (en este caso debería fallar, ya que estamos entregando un string en el primer lugar)\u001B[39;00m\n\u001B[0;32m----> 3\u001B[0m \u001B[43mjugera_2\u001B[49m\u001B[38;5;241;43m.\u001B[39;49m\u001B[43mbandeja\u001B[49m \u001B[38;5;241m=\u001B[39m [\u001B[38;5;124m\"\u001B[39m\u001B[38;5;124mnaranja\u001B[39m\u001B[38;5;124m\"\u001B[39m, platano, frutilla]\n",
      "Cell \u001B[0;32mIn[162], line 20\u001B[0m, in \u001B[0;36mJugera.bandeja\u001B[0;34m(self, nueva_bandeja)\u001B[0m\n\u001B[1;32m     18\u001B[0m \u001B[38;5;28;01mfor\u001B[39;00m fruta \u001B[38;5;129;01min\u001B[39;00m nueva_bandeja:\n\u001B[1;32m     19\u001B[0m     \u001B[38;5;28;01mif\u001B[39;00m \u001B[38;5;28mtype\u001B[39m(fruta) \u001B[38;5;241m!=\u001B[39m \u001B[38;5;28mdict\u001B[39m:\n\u001B[0;32m---> 20\u001B[0m         \u001B[38;5;28;01mraise\u001B[39;00m \u001B[38;5;167;01mException\u001B[39;00m(\u001B[38;5;124m\"\u001B[39m\u001B[38;5;124mIntenta añadir algo que no es una fruta\u001B[39m\u001B[38;5;124m\"\u001B[39m)\n\u001B[1;32m     21\u001B[0m     \u001B[38;5;28;01mif\u001B[39;00m fruta\u001B[38;5;241m.\u001B[39mkeys() \u001B[38;5;241m!=\u001B[39m accepted_keys:\n\u001B[1;32m     22\u001B[0m         \u001B[38;5;28mprint\u001B[39m(accepted_keys)\n",
      "\u001B[0;31mException\u001B[0m: Intenta añadir algo que no es una fruta"
     ]
    }
   ]
  },
  {
   "cell_type": "code",
   "metadata": {
    "tags": [],
    "source_hash": "ecc3586",
    "execution_start": 1648863408300,
    "execution_millis": 2,
    "deepnote_to_be_reexecuted": false,
    "cell_id": "976577e8b66343e38704f8597e85f175",
    "deepnote_cell_type": "code",
    "ExecuteTime": {
     "end_time": "2023-09-01T01:37:07.147576208Z",
     "start_time": "2023-09-01T01:37:07.030948980Z"
    }
   },
   "source": [
    "# Agregamos algunos ingredientes \n",
    "# (en este caso debería fallar, ya que arándando tiene solo la llave nombre)\n",
    "jugera_2.bandeja = [{'nombre': 'arándano'}, platano, frutilla]"
   ],
   "block_group": "976577e8b66343e38704f8597e85f175",
   "execution_count": 167,
   "outputs": [
    {
     "name": "stdout",
     "output_type": "stream",
     "text": [
      "['nombre', 'tipo', 'color', 'pepas']\n"
     ]
    },
    {
     "ename": "Exception",
     "evalue": "Fruta sin formato",
     "output_type": "error",
     "traceback": [
      "\u001B[0;31m---------------------------------------------------------------------------\u001B[0m",
      "\u001B[0;31mException\u001B[0m                                 Traceback (most recent call last)",
      "Cell \u001B[0;32mIn[167], line 3\u001B[0m\n\u001B[1;32m      1\u001B[0m \u001B[38;5;66;03m# Agregamos algunos ingredientes \u001B[39;00m\n\u001B[1;32m      2\u001B[0m \u001B[38;5;66;03m# (en este caso debería fallar, ya que arándando tiene solo la llave nombre)\u001B[39;00m\n\u001B[0;32m----> 3\u001B[0m \u001B[43mjugera_2\u001B[49m\u001B[38;5;241;43m.\u001B[39;49m\u001B[43mbandeja\u001B[49m \u001B[38;5;241m=\u001B[39m [{\u001B[38;5;124m'\u001B[39m\u001B[38;5;124mnombre\u001B[39m\u001B[38;5;124m'\u001B[39m: \u001B[38;5;124m'\u001B[39m\u001B[38;5;124marándano\u001B[39m\u001B[38;5;124m'\u001B[39m}, platano, frutilla]\n",
      "Cell \u001B[0;32mIn[162], line 23\u001B[0m, in \u001B[0;36mJugera.bandeja\u001B[0;34m(self, nueva_bandeja)\u001B[0m\n\u001B[1;32m     21\u001B[0m     \u001B[38;5;28;01mif\u001B[39;00m fruta\u001B[38;5;241m.\u001B[39mkeys() \u001B[38;5;241m!=\u001B[39m accepted_keys:\n\u001B[1;32m     22\u001B[0m         \u001B[38;5;28mprint\u001B[39m(accepted_keys)\n\u001B[0;32m---> 23\u001B[0m         \u001B[38;5;28;01mraise\u001B[39;00m \u001B[38;5;167;01mException\u001B[39;00m(\u001B[38;5;124m\"\u001B[39m\u001B[38;5;124mFruta sin formato\u001B[39m\u001B[38;5;124m\"\u001B[39m)\n\u001B[1;32m     24\u001B[0m \u001B[38;5;28mself\u001B[39m\u001B[38;5;241m.\u001B[39m_bandeja \u001B[38;5;241m=\u001B[39m nueva_bandeja\n",
      "\u001B[0;31mException\u001B[0m: Fruta sin formato"
     ]
    }
   ]
  },
  {
   "cell_type": "code",
   "metadata": {
    "tags": [],
    "source_hash": "b2bcbf",
    "execution_start": 1648863409767,
    "execution_millis": 6,
    "deepnote_to_be_reexecuted": false,
    "cell_id": "4403aaea7e044305bb5a8488d71e42f9",
    "deepnote_cell_type": "code",
    "ExecuteTime": {
     "start_time": "2023-09-01T01:37:07.059803786Z"
    }
   },
   "source": [
    "# Agregamos algunos ingredientes (en este caso, como son 3, debería funcionar)\n",
    "jugera_2.bandeja = [naranja, platano, frutilla]\n",
    "\n",
    "# Y los listamos (debería imprimir: 'Ingredientes en la bandeja: naranja, plátano')\n",
    "jugera_2.listar_ingredientes()"
   ],
   "block_group": "4403aaea7e044305bb5a8488d71e42f9",
   "execution_count": null,
   "outputs": []
  },
  {
   "cell_type": "code",
   "metadata": {
    "tags": [],
    "source_hash": "a9d685c1",
    "execution_start": 1648863411760,
    "execution_millis": 5,
    "deepnote_to_be_reexecuted": false,
    "cell_id": "4b88a24abdc44fcfb5ea294a852bf921",
    "deepnote_cell_type": "code",
    "ExecuteTime": {
     "start_time": "2023-09-01T01:37:07.104729389Z"
    }
   },
   "source": [
    "# Una vez preparado el jugo, imprima el contenido del jugo y si una alerta, \n",
    "# en el caso que el jugo tenga pepas.\n",
    "jugera_2.preparar_jugo()"
   ],
   "block_group": "4b88a24abdc44fcfb5ea294a852bf921",
   "execution_count": null,
   "outputs": []
  },
  {
   "cell_type": "code",
   "metadata": {
    "cell_id": "5d8468e21edd4cecab85b9c04df71094",
    "deepnote_cell_type": "code",
    "ExecuteTime": {
     "start_time": "2023-09-01T01:37:07.104916259Z"
    }
   },
   "source": [
    "# Una vez preparado el jugo, debería vaciarse la bandeja (imprimir Bandeja vacía)\n",
    "jugera_2.listar_ingredientes()"
   ],
   "block_group": "5d8468e21edd4cecab85b9c04df71094",
   "execution_count": null,
   "outputs": []
  },
  {
   "cell_type": "markdown",
   "metadata": {
    "cell_id": "5e068559e86248d8bee152cdc577fdaa",
    "deepnote_cell_type": "markdown"
   },
   "source": [
    "## Parte 3 [1.0 puntos]"
   ],
   "block_group": "5e068559e86248d8bee152cdc577fdaa"
  },
  {
   "cell_type": "markdown",
   "metadata": {
    "cell_id": "cd08daf60c5042bb8955ddbb82fe8dfd",
    "deepnote_cell_type": "markdown"
   },
   "source": [
    "Para esta última parte, deben responder las siguientes preguntas:\n",
    "\n",
    "1. ¿Qué es un virtual environment? ¿Para qué sirve? (0.25 ptos)\n",
    "\n",
    "`Escriba su respuesta acá`\n",
    "\n",
    "2. ¿Qué ventajas puede tener usar un virtual environment? Nombre y explique al menos 2. (0.25 ptos)\n",
    "\n",
    "`Escriba su respuesta acá`\n",
    "\n",
    "3. Escriba el comando para crear un virtual environment usando `conda`. ¿Existen otras formas de crear un virtual environment? (0.25 ptos)\n",
    "\n",
    "`Escriba su respuesta acá`\n",
    "\n",
    "4. ¿De qué forma podemos exportar las librerias instaladas en un virtual environment? Escriba el comando que nos permite realizar esto.  (0.25 ptos)\n",
    "\n",
    "`Escriba su respuesta acá`"
   ],
   "block_group": "cd08daf60c5042bb8955ddbb82fe8dfd"
  },
  {
   "cell_type": "markdown",
   "metadata": {
    "cell_id": "f43d41efbd004176940992a92a1fe953",
    "deepnote_cell_type": "markdown"
   },
   "source": [],
   "block_group": "f43d41efbd004176940992a92a1fe953"
  },
  {
   "cell_type": "markdown",
   "source": [
    "<a style='text-decoration:none;line-height:16px;display:flex;color:#5B5B62;padding:10px;justify-content:end;' href='https://deepnote.com?utm_source=created-in-deepnote-cell&projectId=87110296-876e-426f-b91d-aaf681223468' target=\"_blank\">\n",
    "<img alt='Created in deepnote.com' style='display:inline;max-height:16px;margin:0px;margin-right:7.5px;' src='data:image/svg+xml;base64,PD94bWwgdmVyc2lvbj0iMS4wIiBlbmNvZGluZz0iVVRGLTgiPz4KPHN2ZyB3aWR0aD0iODBweCIgaGVpZ2h0PSI4MHB4IiB2aWV3Qm94PSIwIDAgODAgODAiIHZlcnNpb249IjEuMSIgeG1sbnM9Imh0dHA6Ly93d3cudzMub3JnLzIwMDAvc3ZnIiB4bWxuczp4bGluaz0iaHR0cDovL3d3dy53My5vcmcvMTk5OS94bGluayI+CiAgICA8IS0tIEdlbmVyYXRvcjogU2tldGNoIDU0LjEgKDc2NDkwKSAtIGh0dHBzOi8vc2tldGNoYXBwLmNvbSAtLT4KICAgIDx0aXRsZT5Hcm91cCAzPC90aXRsZT4KICAgIDxkZXNjPkNyZWF0ZWQgd2l0aCBTa2V0Y2guPC9kZXNjPgogICAgPGcgaWQ9IkxhbmRpbmciIHN0cm9rZT0ibm9uZSIgc3Ryb2tlLXdpZHRoPSIxIiBmaWxsPSJub25lIiBmaWxsLXJ1bGU9ImV2ZW5vZGQiPgogICAgICAgIDxnIGlkPSJBcnRib2FyZCIgdHJhbnNmb3JtPSJ0cmFuc2xhdGUoLTEyMzUuMDAwMDAwLCAtNzkuMDAwMDAwKSI+CiAgICAgICAgICAgIDxnIGlkPSJHcm91cC0zIiB0cmFuc2Zvcm09InRyYW5zbGF0ZSgxMjM1LjAwMDAwMCwgNzkuMDAwMDAwKSI+CiAgICAgICAgICAgICAgICA8cG9seWdvbiBpZD0iUGF0aC0yMCIgZmlsbD0iIzAyNjVCNCIgcG9pbnRzPSIyLjM3NjIzNzYyIDgwIDM4LjA0NzY2NjcgODAgNTcuODIxNzgyMiA3My44MDU3NTkyIDU3LjgyMTc4MjIgMzIuNzU5MjczOSAzOS4xNDAyMjc4IDMxLjY4MzE2ODMiPjwvcG9seWdvbj4KICAgICAgICAgICAgICAgIDxwYXRoIGQ9Ik0zNS4wMDc3MTgsODAgQzQyLjkwNjIwMDcsNzYuNDU0OTM1OCA0Ny41NjQ5MTY3LDcxLjU0MjI2NzEgNDguOTgzODY2LDY1LjI2MTk5MzkgQzUxLjExMjI4OTksNTUuODQxNTg0MiA0MS42NzcxNzk1LDQ5LjIxMjIyODQgMjUuNjIzOTg0Niw0OS4yMTIyMjg0IEMyNS40ODQ5Mjg5LDQ5LjEyNjg0NDggMjkuODI2MTI5Niw0My4yODM4MjQ4IDM4LjY0NzU4NjksMzEuNjgzMTY4MyBMNzIuODcxMjg3MSwzMi41NTQ0MjUgTDY1LjI4MDk3Myw2Ny42NzYzNDIxIEw1MS4xMTIyODk5LDc3LjM3NjE0NCBMMzUuMDA3NzE4LDgwIFoiIGlkPSJQYXRoLTIyIiBmaWxsPSIjMDAyODY4Ij48L3BhdGg+CiAgICAgICAgICAgICAgICA8cGF0aCBkPSJNMCwzNy43MzA0NDA1IEwyNy4xMTQ1MzcsMC4yNTcxMTE0MzYgQzYyLjM3MTUxMjMsLTEuOTkwNzE3MDEgODAsMTAuNTAwMzkyNyA4MCwzNy43MzA0NDA1IEM4MCw2NC45NjA0ODgyIDY0Ljc3NjUwMzgsNzkuMDUwMzQxNCAzNC4zMjk1MTEzLDgwIEM0Ny4wNTUzNDg5LDc3LjU2NzA4MDggNTMuNDE4MjY3Nyw3MC4zMTM2MTAzIDUzLjQxODI2NzcsNTguMjM5NTg4NSBDNTMuNDE4MjY3Nyw0MC4xMjg1NTU3IDM2LjMwMzk1NDQsMzcuNzMwNDQwNSAyNS4yMjc0MTcsMzcuNzMwNDQwNSBDMTcuODQzMDU4NiwzNy43MzA0NDA1IDkuNDMzOTE5NjYsMzcuNzMwNDQwNSAwLDM3LjczMDQ0MDUgWiIgaWQ9IlBhdGgtMTkiIGZpbGw9IiMzNzkzRUYiPjwvcGF0aD4KICAgICAgICAgICAgPC9nPgogICAgICAgIDwvZz4KICAgIDwvZz4KPC9zdmc+' > </img>\n",
    "Created in <span style='font-weight:600;margin-left:4px;'>Deepnote</span></a>"
   ],
   "metadata": {
    "created_in_deepnote_cell": true,
    "deepnote_cell_type": "markdown"
   }
  }
 ],
 "nbformat": 4,
 "nbformat_minor": 0,
 "metadata": {
  "colab": {
   "name": "Lab1_pauta.ipynb",
   "provenance": [],
   "collapsed_sections": []
  },
  "deepnote": {},
  "kernelspec": {
   "name": "python3",
   "language": "python",
   "display_name": "Python 3"
  },
  "language_info": {
   "name": "python",
   "version": "3.8.3",
   "mimetype": "text/x-python",
   "file_extension": ".py",
   "pygments_lexer": "ipython3",
   "codemirror_mode": {
    "name": "ipython",
    "version": 3
   },
   "nbconvert_exporter": "python"
  },
  "deepnote_notebook_id": "9ab947a9e176401fb56de9443c666a4a",
  "deepnote_execution_queue": []
 }
}
